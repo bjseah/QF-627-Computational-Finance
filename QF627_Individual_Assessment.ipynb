{
 "cells": [
  {
   "cell_type": "markdown",
   "metadata": {},
   "source": [
    "# QF 627 Programming and Computational Finance\n",
    "## Individual Assessment"
   ]
  },
  {
   "cell_type": "markdown",
   "metadata": {},
   "source": [
    "***\n",
    "\n",
    "> Good evening, Team. 👋\n",
    "\n",
    "> This assessment is prepared so that you may review what you have learned on the course. You can find the answers from the lessons and from the scripts of each lesson that you have received throughout the course. Please do not feel yourselves to be under pressure. `Read each question carefully and answer accordingly`.\n",
    "\n",
    "> Using Python in real-world financial data analysis does not mean simply executing a single step of an independent chunk of code. It requires a chain of lines of codes with a sharp logical progression. To give you a good exercise in real-world practice, the questions here, just like all the lessons and exercise problem sets, require you to go through `inter-related` and `logically deduced lines of programming`.\n",
    "\n",
    "***\n",
    "\n",
    "> Below are 10 questions. Each question asks you to program a sequence of codes that lead to an answer. First `ensure you fully understand the question`, in order not to overlook essential processes and answers. When questions ask for answers in addition to lines of codes, provide them using a markdown cell.\n",
    "\n",
    "***\n",
    "\n",
    "> Be sure to submit your work before the deadline: `9:30pm tonight, November 8, 2022`. It is an open-book exercise, and is also a timed task. To be fair to all students, a late submission will incur a point reduction.\n",
    "\n",
    "> Please note `your last name` for `naming your submission` file (e.g., `Roh.ipynb`)\n",
    "\n",
    "> If you find that you cannot answer a question, it would be wise to move on to another question that you can answer, and to finish that one first. `Make the best use of the time available`. If you cannot fully answer all the questions, then do as much as you can.\n",
    "\n",
    "***\n",
    "\n",
    "> Under a relative grading scheme, not everyone can receive an A grade for the course. This is school policy. If you find the questions easy, that does not guarantee your good final performance. If you find the questions a bit difficult, that is so that you may be given a valid and fair assessment. `It does not mean that you are failing`.\n",
    "\n",
    "***\n",
    "\n",
    "> Rather than feeling pressured by the assessment, I hope you will enjoy the opportunity presented by the hands-on exercise. You will notice that `answering each question will further consolidate your learning`.\n",
    "\n",
    "***\n",
    "\n",
    "> I wish you the best for your individual assessment, Team.🤞"
   ]
  },
  {
   "cell_type": "markdown",
   "metadata": {},
   "source": [
    "### For standardization of your answers…\n",
    "\n",
    "> Please execute the lines of code below before you start work on your answers."
   ]
  },
  {
   "cell_type": "code",
   "execution_count": null,
   "metadata": {},
   "outputs": [],
   "source": [
    "# Our standardized printing options\n",
    "\n",
    "import numpy as np\n",
    "import pandas as pd\n",
    "\n",
    "import matplotlib.pyplot as plt\n",
    "import matplotlib as mpl\n",
    "\n",
    "np.set_printoptions(precision = 3)\n",
    "\n",
    "pd.set_option(\"display.float_format\", lambda x: \"%.3f\" % x)\n",
    "\n",
    "plt.style.use(\"ggplot\")\n",
    "\n",
    "mpl.rcParams[\"axes.grid\"] = True\n",
    "mpl.rcParams[\"grid.color\"] = \"grey\"\n",
    "mpl.rcParams[\"grid.alpha\"] = 0.25\n",
    "\n",
    "mpl.rcParams[\"axes.facecolor\"] = \"white\"\n",
    "\n",
    "mpl.rcParams[\"legend.fontsize\"] = 14"
   ]
  },
  {
   "attachments": {},
   "cell_type": "markdown",
   "metadata": {},
   "source": [
    "## 👇 Questions 1 and 2 ask you to assess the correlations of stocks returns, using two methods of analysis."
   ]
  },
  {
   "cell_type": "markdown",
   "metadata": {},
   "source": [
    "###  <font color = blue> 👉 Questions 1 </font>. Extract the stock prices of the following ticker symbols, from July 2013 to June 2022.\n",
    "\n",
    "| Security | Symbol |\n",
    "| -------- | ------ |\n",
    "Merck | `MRK`\n",
    "Marriott | `MAR`\n",
    "3M | `MMM`\n",
    "Adobe | `ADBE`\n",
    "Aon | `AON`\n",
    "American Airlines | `AAL`\n",
    "Capital One | `COF`\n",
    "Coca-Cola | `KO`\n",
    "Citigroup | `C`\n",
    "\n",
    "### Assess which of the pairs of tickers (there are 36 unique possible pairs) appear to show the closest relationships (i.e., greatest correlations) when comparing daily percentage changes.\n",
    "\n",
    "### Make sure to provide the lines of code that lead to your answers, and give your answers in `Answer 1 cell`."
   ]
  },
  {
   "cell_type": "code",
   "execution_count": null,
   "metadata": {},
   "outputs": [],
   "source": []
  },
  {
   "cell_type": "markdown",
   "metadata": {},
   "source": [
    "### <font color = red> Answer 1 </font>\n",
    "\n",
    "    The answer is ____________&______________ .\n",
    "    "
   ]
  },
  {
   "attachments": {},
   "cell_type": "markdown",
   "metadata": {},
   "source": [
    "###  <font color = blue> 👉 Questions 2 </font>. Let’s look for clusters of correlations using the agglomerate hierarchical clustering technique (AGNES) for the ticker symbols above. Run the analysis and prepare a dendrogram. \n",
    "\n",
    "### According to the dendrogram, which of the stocks are most strongly correlated? Working from the dendrogram, please also identify two stocks that are not well correlated.\n",
    "\n",
    "### Report the results using the `average` and `ward` methods, respectively."
   ]
  },
  {
   "cell_type": "markdown",
   "metadata": {},
   "source": [
    "### Below are the lines of code that lead to an answer:"
   ]
  },
  {
   "cell_type": "code",
   "execution_count": null,
   "metadata": {},
   "outputs": [],
   "source": []
  },
  {
   "cell_type": "markdown",
   "metadata": {},
   "source": [
    "### <font color = red> Answer 2 </font>\n",
    "\n",
    "    The answer is ________________________________________________ ."
   ]
  },
  {
   "cell_type": "markdown",
   "metadata": {},
   "source": [
    "## 👇 Questions 3 to 5 ask you to create a predictive model for the weekly return of IBM stock. You will use supervised learning for your predictive modelling."
   ]
  },
  {
   "attachments": {},
   "cell_type": "markdown",
   "metadata": {},
   "source": [
    "### <font color = \"green\"> NOTE: There are 10 questions in the assessment, and each question has three credits. Questions 3–5 thus have a total of nine credits allocated, but with only two actual questions. \n",
    "    \n",
    "### <font color = \"green\"> Question 3 is about building a predictive model. For correctly completing all parts of it, you will receive three credits. \n",
    "    \n",
    "### <font color = \"green\"> In Questions 4 and 5 you are competing with our classmates with the performance of your predictive models. \n",
    "    \n",
    "### <font color = \"green\"> Predictive models are ultimately assessed based on their performance in prediction. Questions 4 and 5 are for `relative grading`, based on your predictive model’s performance. That is, your answer here will be assessed relative to other students’ performances.\n",
    "\n",
    "You must give your best algorithm (`best`, based on performance metrics). \n",
    "\n",
    "* if your best model’s performance is among the `top three` results in class, you will receive `six points`; \n",
    "* if your best model’s performance is `between the 4th and 6th ranks`, you will receive `four points`; \n",
    "* `the rest of our classmates` will receive `two points`.\n",
    "\n",
    "* `MSE` will be the first criterion for performance appraisal. In the event of a tie, `R-squared` will be used as a tie-breaker."
   ]
  },
  {
   "cell_type": "markdown",
   "metadata": {},
   "source": [
    "> Among the three major factors (correlated assets, technical indicators, and fundamental analysis), you will use correlated assets and technical indicators as input features here.\n",
    "\n",
    "    Step 0. The analysis horizon is 10 years between 2010 and 2019.\n",
    "    \n",
    "    Step 1. Use 80% of your data for the training of your algorithm, and 20% for the testing set.\n",
    "\n",
    "    Step 2. For your feature engineering...\n",
    "    \n",
    "> Our operational definition of `outcome` (`Y`) is the weekly return of IBM. The number of trading days in a week is assumed to be five, and we compute the return using five trading days. \n",
    "<br>\n",
    "    \n",
    "### <font color = \"green\"> NOTE: The lagged five-day variables embed the time series component by using a time-delay approach, where the lagged variable is included as one of the predictor variables. This step translates the time series data into a supervised regression-based model framework.\n",
    "    \n",
    "### <font color = \"green\"> For `input features` (`predictors`; `Xs`), you may `choose` to use any or all of the following features.\n",
    "\n",
    "> `Correlated assets`\n",
    "\n",
    "* lagged five-day returns of stocks (AAPL, AMZN, MSFT);\n",
    "* currency exchange rates (USD/JPY and GBP/USD);\n",
    "* indices (S&P 500, Dow Jones, and VIX);\n",
    "* lagged five-day, 15-day, 30-day, and 60-day returns of IBM.\n",
    "\n",
    "> `Technical indicators`\n",
    "\n",
    "* 21-day, 63-day, and 252-day moving averages;\n",
    "* 10-day, 30-day, and 200-day exponential moving averages;\n",
    "* 10-day, 30-day, and 200-day relative strength index;\n",
    "* stochastic oscillator %K and %D (using rolling windows of 10-, 30-, 200-day);\n",
    "* rate of change (using 10-, 30-day past prices).\n",
    "\n",
    "    \n",
    "    Step 3. For your algorithm of choices, please assess the model performance of the following algorithms: \n",
    "\n",
    "* Linear Regression\n",
    "* Elastic Net\n",
    "* LASSO\n",
    "* Support Vector Machine\n",
    "* K-Nearest Neighbor\n",
    "* ARIMA\n",
    "* Decision Tree\n",
    "* Extra Trees \n",
    "* Random Forest\n",
    "* Gradient Boosting Tree\n",
    "* Adaptive Boosting\n",
    "    \n",
    "    \n",
    "    Step 4. For this question, hyperparameter tuning won’t be requested. \n",
    "    \n",
    "    Step 5. But make sure to compare the model performance of the above algorithms.\n",
    "\n",
    "### Set `num_folds` at `10`, `seed` at `627` \n",
    "    \n",
    "### The metric for assessing model performance will be mean squared error (`MSE`) and r-squared ($ R^2 $)."
   ]
  },
  {
   "cell_type": "markdown",
   "metadata": {},
   "source": [
    "### Below are the lines of code that lead to an <font color = red> Answer 3 </font>:"
   ]
  },
  {
   "cell_type": "code",
   "execution_count": null,
   "metadata": {},
   "outputs": [],
   "source": []
  },
  {
   "cell_type": "markdown",
   "metadata": {},
   "source": [
    "### Below are the lines of code that lead to an <font color = red>Answer 4</font> and <font color = red>Answer 5</font> :\n",
    "\n",
    "### <font color = green> NOTE: You must give your best algorithm here (`best`, based on performance metrics). "
   ]
  },
  {
   "cell_type": "code",
   "execution_count": null,
   "metadata": {},
   "outputs": [],
   "source": []
  },
  {
   "attachments": {},
   "cell_type": "markdown",
   "metadata": {},
   "source": [
    "### <font color = blue> 👉 Question 6</font>. This question is where you will execute principal component analysis (PCA) for portfolio management.\n",
    "    \n",
    "### As learned from the course, the principal components of the correlation matrix capture most of the covariation among assets in descending order and are mutually uncorrelated. Importantly, we can employ standardized principal components as portfolio weights. \n",
    "\n",
    "### Randomly choose 30 stock tickers among the stock tickers from below DF.\n",
    "    \n",
    "### Set the seed number 627 for an identical set of stock tickers at the starting point of your analysis for everyone.\n",
    "    \n",
    "### Your objective is to find the best-performing portfolio, using PCA. Using what you learned in class, identify the profile of each portfolio. Please visualize and show the relative performances of the four portfolios (Disregard the portfolio that shows infinite returns, and use the other four).\n",
    "    \n",
    "### Please use 75% of your data for PCA and 25% for backtesting. \n",
    "    \n",
    "### <font color = \"green\"> NOTE: The investment horizon will be 7 years between 2013 and 2019."
   ]
  },
  {
   "cell_type": "code",
   "execution_count": null,
   "metadata": {},
   "outputs": [],
   "source": [
    "list_of_tickers = pd.read_html(\"https://en.wikipedia.org/wiki/Nasdaq-100\")[4]\n",
    "\n",
    "list_of_tickers"
   ]
  },
  {
   "cell_type": "markdown",
   "metadata": {},
   "source": [
    "### Below are the lines of code that lead to an answer:"
   ]
  },
  {
   "cell_type": "code",
   "execution_count": null,
   "metadata": {},
   "outputs": [],
   "source": []
  },
  {
   "cell_type": "markdown",
   "metadata": {},
   "source": [
    "### <font color = red> Answer 6 (`including visualization component`) is presented in the cell below: </font>"
   ]
  },
  {
   "cell_type": "code",
   "execution_count": null,
   "metadata": {},
   "outputs": [],
   "source": []
  },
  {
   "cell_type": "markdown",
   "metadata": {},
   "source": [
    "## 👇 Questions 7 to 10 ask you to build, execute, and backtest a `moving average crossover strategy`."
   ]
  },
  {
   "cell_type": "markdown",
   "metadata": {},
   "source": [
    "###  <font color = blue> 👉 Question 7. </font> Our securities of interest are Apple (`AAPL`), Google (`GOOGL`), Microsoft (`MSFT`) stocks. The time period for analysis is from October 2006 to December 2012.\n",
    "\n",
    "### The strategy that you'll be developing is as follows: you create two separate Simple Moving Averages (SMA) of a time series with differing lookback periods (here, 40 days and 100 days). If the short moving average exceeds the long moving average then you go long, if the long moving average exceeds the short moving average then you exit.\n",
    "\n",
    "### On the days that the signal is 1 and the short moving average crosses the long moving average (for the period greater than the shortest moving average window), you'll buy a 100 shares. The days on which the signal is 0, the final result will be 0 as a result of the operation 100 x signal.\n",
    "\n",
    "### For rolling statistics, set `min_periods` at `1` and `center` argument at `False`.\n",
    "\n",
    "### Use `adjusted` closing price.\n",
    "\n",
    "### Let’s suppose that you started from a `$100,000` capital base for each of the three securities.\n",
    "\n",
    "### Disregarding commission, how much will you have in the end in your account for each of the securities as a result of the current momentum-based trading?"
   ]
  },
  {
   "cell_type": "markdown",
   "metadata": {},
   "source": [
    "### Below are the lines of code that lead to an answer:"
   ]
  },
  {
   "cell_type": "code",
   "execution_count": null,
   "metadata": {},
   "outputs": [],
   "source": []
  },
  {
   "cell_type": "markdown",
   "metadata": {},
   "source": [
    "### <font color = red> Answer 7 </font>\n",
    "\n",
    "\n",
    "    AAPL  : _$______________ \n",
    "    \n",
    "    GOOGL : _$______________ \n",
    "    \n",
    "    MSFT  : _$______________ \n"
   ]
  },
  {
   "cell_type": "markdown",
   "metadata": {},
   "source": [
    "###  <font color = blue> 👉 Question 8. </font>  \n",
    "\n",
    "### Calculate and visualize the maximum drawdowns and the longest drawdown periods for `AAPL`, `GOOGL`, and `MSFT`."
   ]
  },
  {
   "cell_type": "markdown",
   "metadata": {},
   "source": [
    "### Below are the lines of code that lead to an answer:"
   ]
  },
  {
   "cell_type": "code",
   "execution_count": null,
   "metadata": {},
   "outputs": [],
   "source": []
  },
  {
   "cell_type": "markdown",
   "metadata": {},
   "source": [
    "### <font color = red> Answer 8 (`visualization component`) is presented in the cell below: </font>"
   ]
  },
  {
   "cell_type": "code",
   "execution_count": null,
   "metadata": {},
   "outputs": [],
   "source": []
  },
  {
   "cell_type": "markdown",
   "metadata": {},
   "source": [
    "### <font color = red> Answer 8 </font>\n",
    "    \n",
    "    As to AAPL,\n",
    "    \n",
    "    The maximum drawdown is about ____________ percentage points.\n",
    "    The longest drawdown period lasts for _____________ days.\n",
    "    \n",
    "    As to GOOGL,\n",
    "    \n",
    "    The maximum drawdown is about ____________ percentage points.\n",
    "    The longest drawdown period lasts for _____________ days.\n",
    "    \n",
    "    As to MSFT,\n",
    "    \n",
    "    The maximum drawdown is about ____________ percentage points.\n",
    "    The longest drawdown period lasts for _____________ days.\n"
   ]
  },
  {
   "attachments": {},
   "cell_type": "markdown",
   "metadata": {},
   "source": [
    "###  <font color = blue> 👉 Question 9. </font> Using the current momentum strategy, which of the securities shows the greatest Sharpe ratio?"
   ]
  },
  {
   "cell_type": "markdown",
   "metadata": {},
   "source": [
    "### Below are the lines of code that lead to an answer:"
   ]
  },
  {
   "cell_type": "code",
   "execution_count": null,
   "metadata": {},
   "outputs": [],
   "source": []
  },
  {
   "cell_type": "markdown",
   "metadata": {},
   "source": [
    "### <font color = red> Answer 9 </font>\n",
    "\n",
    "    The answer is ____________________________ ."
   ]
  },
  {
   "cell_type": "markdown",
   "metadata": {},
   "source": [
    "###  <font color = blue> 👉 Question 10. </font> Report compound annual growth rate (CAGR) for `AAPL`, `GOOGL`, and `MSFT`."
   ]
  },
  {
   "cell_type": "markdown",
   "metadata": {},
   "source": [
    "### Below are the lines of code that lead to an answer:"
   ]
  },
  {
   "cell_type": "code",
   "execution_count": null,
   "metadata": {},
   "outputs": [],
   "source": []
  },
  {
   "cell_type": "markdown",
   "metadata": {},
   "source": [
    "### <font color = red> Answer 10 </font>\n",
    "\n",
    "\n",
    "    AAPL  : _____________%__ \n",
    "    \n",
    "    GOOGL : _____________%__ \n",
    "    \n",
    "    MSFT  : _____________%__ \n"
   ]
  },
  {
   "cell_type": "markdown",
   "metadata": {},
   "source": [
    "> 💯 “Thank you for putting your efforts into the individual assessment questions” 😊"
   ]
  }
 ],
 "metadata": {
  "kernelspec": {
   "display_name": "Python 3 (ipykernel)",
   "language": "python",
   "name": "python3"
  },
  "language_info": {
   "codemirror_mode": {
    "name": "ipython",
    "version": 3
   },
   "file_extension": ".py",
   "mimetype": "text/x-python",
   "name": "python",
   "nbconvert_exporter": "python",
   "pygments_lexer": "ipython3",
   "version": "3.9.12"
  }
 },
 "nbformat": 4,
 "nbformat_minor": 1
}
