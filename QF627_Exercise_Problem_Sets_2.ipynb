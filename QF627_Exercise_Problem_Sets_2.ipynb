{
 "cells": [
  {
   "cell_type": "markdown",
   "metadata": {},
   "source": [
    "# QF 627 Programming and Computational Finance\n",
    "## Problem-Sets for Exercise `2` | `Questions`"
   ]
  },
  {
   "cell_type": "markdown",
   "metadata": {},
   "source": [
    "### <font color = green> Activation of necessary libraries. </font>"
   ]
  },
  {
   "cell_type": "code",
   "execution_count": 1,
   "metadata": {},
   "outputs": [],
   "source": [
    "import pandas as pd\n",
    "import numpy as np\n",
    "import matplotlib.pyplot as plt"
   ]
  },
  {
   "cell_type": "markdown",
   "metadata": {},
   "source": [
    "### <font color = \"blue\"> `IMPORT` your dataset: `bank_loan.csv`. </font>"
   ]
  },
  {
   "cell_type": "code",
   "execution_count": 2,
   "metadata": {},
   "outputs": [
    {
     "name": "stderr",
     "output_type": "stream",
     "text": [
      "C:\\Users\\cassi\\AppData\\Local\\Temp\\ipykernel_3300\\790798779.py:1: DtypeWarning: Columns (47) have mixed types. Specify dtype option on import or set low_memory=False.\n",
      "  df = pd.read_csv(\"bank_loan.csv\")\n"
     ]
    }
   ],
   "source": [
    "df = pd.read_csv(\"bank_loan.csv\")"
   ]
  },
  {
   "cell_type": "markdown",
   "metadata": {},
   "source": [
    "### Question 1. Data `Inspection`"
   ]
  },
  {
   "cell_type": "markdown",
   "metadata": {},
   "source": [
    "#### Question 1.1. How would you look at the first few rows of the DF?"
   ]
  },
  {
   "cell_type": "code",
   "execution_count": 3,
   "metadata": {},
   "outputs": [
    {
     "data": {
      "text/html": [
       "<div>\n",
       "<style scoped>\n",
       "    .dataframe tbody tr th:only-of-type {\n",
       "        vertical-align: middle;\n",
       "    }\n",
       "\n",
       "    .dataframe tbody tr th {\n",
       "        vertical-align: top;\n",
       "    }\n",
       "\n",
       "    .dataframe thead th {\n",
       "        text-align: right;\n",
       "    }\n",
       "</style>\n",
       "<table border=\"1\" class=\"dataframe\">\n",
       "  <thead>\n",
       "    <tr style=\"text-align: right;\">\n",
       "      <th></th>\n",
       "      <th>id</th>\n",
       "      <th>member_id</th>\n",
       "      <th>loan_amnt</th>\n",
       "      <th>funded_amnt</th>\n",
       "      <th>funded_amnt_inv</th>\n",
       "      <th>term</th>\n",
       "      <th>int_rate</th>\n",
       "      <th>installment</th>\n",
       "      <th>grade</th>\n",
       "      <th>sub_grade</th>\n",
       "      <th>...</th>\n",
       "      <th>num_tl_90g_dpd_24m</th>\n",
       "      <th>num_tl_op_past_12m</th>\n",
       "      <th>pct_tl_nvr_dlq</th>\n",
       "      <th>percent_bc_gt_75</th>\n",
       "      <th>pub_rec_bankruptcies</th>\n",
       "      <th>tax_liens</th>\n",
       "      <th>tot_hi_cred_lim</th>\n",
       "      <th>total_bal_ex_mort</th>\n",
       "      <th>total_bc_limit</th>\n",
       "      <th>total_il_high_credit_limit</th>\n",
       "    </tr>\n",
       "  </thead>\n",
       "  <tbody>\n",
       "    <tr>\n",
       "      <th>0</th>\n",
       "      <td>1077501</td>\n",
       "      <td>1296599</td>\n",
       "      <td>5000</td>\n",
       "      <td>5000</td>\n",
       "      <td>4975.0</td>\n",
       "      <td>36 months</td>\n",
       "      <td>10.65%</td>\n",
       "      <td>162.87</td>\n",
       "      <td>B</td>\n",
       "      <td>B2</td>\n",
       "      <td>...</td>\n",
       "      <td>NaN</td>\n",
       "      <td>NaN</td>\n",
       "      <td>NaN</td>\n",
       "      <td>NaN</td>\n",
       "      <td>0.0</td>\n",
       "      <td>0.0</td>\n",
       "      <td>NaN</td>\n",
       "      <td>NaN</td>\n",
       "      <td>NaN</td>\n",
       "      <td>NaN</td>\n",
       "    </tr>\n",
       "    <tr>\n",
       "      <th>1</th>\n",
       "      <td>1077430</td>\n",
       "      <td>1314167</td>\n",
       "      <td>2500</td>\n",
       "      <td>2500</td>\n",
       "      <td>2500.0</td>\n",
       "      <td>60 months</td>\n",
       "      <td>15.27%</td>\n",
       "      <td>59.83</td>\n",
       "      <td>C</td>\n",
       "      <td>C4</td>\n",
       "      <td>...</td>\n",
       "      <td>NaN</td>\n",
       "      <td>NaN</td>\n",
       "      <td>NaN</td>\n",
       "      <td>NaN</td>\n",
       "      <td>0.0</td>\n",
       "      <td>0.0</td>\n",
       "      <td>NaN</td>\n",
       "      <td>NaN</td>\n",
       "      <td>NaN</td>\n",
       "      <td>NaN</td>\n",
       "    </tr>\n",
       "    <tr>\n",
       "      <th>2</th>\n",
       "      <td>1077175</td>\n",
       "      <td>1313524</td>\n",
       "      <td>2400</td>\n",
       "      <td>2400</td>\n",
       "      <td>2400.0</td>\n",
       "      <td>36 months</td>\n",
       "      <td>15.96%</td>\n",
       "      <td>84.33</td>\n",
       "      <td>C</td>\n",
       "      <td>C5</td>\n",
       "      <td>...</td>\n",
       "      <td>NaN</td>\n",
       "      <td>NaN</td>\n",
       "      <td>NaN</td>\n",
       "      <td>NaN</td>\n",
       "      <td>0.0</td>\n",
       "      <td>0.0</td>\n",
       "      <td>NaN</td>\n",
       "      <td>NaN</td>\n",
       "      <td>NaN</td>\n",
       "      <td>NaN</td>\n",
       "    </tr>\n",
       "    <tr>\n",
       "      <th>3</th>\n",
       "      <td>1076863</td>\n",
       "      <td>1277178</td>\n",
       "      <td>10000</td>\n",
       "      <td>10000</td>\n",
       "      <td>10000.0</td>\n",
       "      <td>36 months</td>\n",
       "      <td>13.49%</td>\n",
       "      <td>339.31</td>\n",
       "      <td>C</td>\n",
       "      <td>C1</td>\n",
       "      <td>...</td>\n",
       "      <td>NaN</td>\n",
       "      <td>NaN</td>\n",
       "      <td>NaN</td>\n",
       "      <td>NaN</td>\n",
       "      <td>0.0</td>\n",
       "      <td>0.0</td>\n",
       "      <td>NaN</td>\n",
       "      <td>NaN</td>\n",
       "      <td>NaN</td>\n",
       "      <td>NaN</td>\n",
       "    </tr>\n",
       "    <tr>\n",
       "      <th>4</th>\n",
       "      <td>1075358</td>\n",
       "      <td>1311748</td>\n",
       "      <td>3000</td>\n",
       "      <td>3000</td>\n",
       "      <td>3000.0</td>\n",
       "      <td>60 months</td>\n",
       "      <td>12.69%</td>\n",
       "      <td>67.79</td>\n",
       "      <td>B</td>\n",
       "      <td>B5</td>\n",
       "      <td>...</td>\n",
       "      <td>NaN</td>\n",
       "      <td>NaN</td>\n",
       "      <td>NaN</td>\n",
       "      <td>NaN</td>\n",
       "      <td>0.0</td>\n",
       "      <td>0.0</td>\n",
       "      <td>NaN</td>\n",
       "      <td>NaN</td>\n",
       "      <td>NaN</td>\n",
       "      <td>NaN</td>\n",
       "    </tr>\n",
       "  </tbody>\n",
       "</table>\n",
       "<p>5 rows × 111 columns</p>\n",
       "</div>"
      ],
      "text/plain": [
       "        id  member_id  loan_amnt  funded_amnt  funded_amnt_inv        term  \\\n",
       "0  1077501    1296599       5000         5000           4975.0   36 months   \n",
       "1  1077430    1314167       2500         2500           2500.0   60 months   \n",
       "2  1077175    1313524       2400         2400           2400.0   36 months   \n",
       "3  1076863    1277178      10000        10000          10000.0   36 months   \n",
       "4  1075358    1311748       3000         3000           3000.0   60 months   \n",
       "\n",
       "  int_rate  installment grade sub_grade  ... num_tl_90g_dpd_24m  \\\n",
       "0   10.65%       162.87     B        B2  ...                NaN   \n",
       "1   15.27%        59.83     C        C4  ...                NaN   \n",
       "2   15.96%        84.33     C        C5  ...                NaN   \n",
       "3   13.49%       339.31     C        C1  ...                NaN   \n",
       "4   12.69%        67.79     B        B5  ...                NaN   \n",
       "\n",
       "  num_tl_op_past_12m pct_tl_nvr_dlq  percent_bc_gt_75 pub_rec_bankruptcies  \\\n",
       "0                NaN            NaN               NaN                  0.0   \n",
       "1                NaN            NaN               NaN                  0.0   \n",
       "2                NaN            NaN               NaN                  0.0   \n",
       "3                NaN            NaN               NaN                  0.0   \n",
       "4                NaN            NaN               NaN                  0.0   \n",
       "\n",
       "  tax_liens tot_hi_cred_lim total_bal_ex_mort total_bc_limit  \\\n",
       "0       0.0             NaN               NaN            NaN   \n",
       "1       0.0             NaN               NaN            NaN   \n",
       "2       0.0             NaN               NaN            NaN   \n",
       "3       0.0             NaN               NaN            NaN   \n",
       "4       0.0             NaN               NaN            NaN   \n",
       "\n",
       "  total_il_high_credit_limit  \n",
       "0                        NaN  \n",
       "1                        NaN  \n",
       "2                        NaN  \n",
       "3                        NaN  \n",
       "4                        NaN  \n",
       "\n",
       "[5 rows x 111 columns]"
      ]
     },
     "execution_count": 3,
     "metadata": {},
     "output_type": "execute_result"
    }
   ],
   "source": [
    "df.head()"
   ]
  },
  {
   "cell_type": "markdown",
   "metadata": {},
   "source": [
    "#### Question 1.2. How would you look at all the column names?"
   ]
  },
  {
   "cell_type": "code",
   "execution_count": 4,
   "metadata": {},
   "outputs": [
    {
     "data": {
      "text/plain": [
       "Index(['id', 'member_id', 'loan_amnt', 'funded_amnt', 'funded_amnt_inv',\n",
       "       'term', 'int_rate', 'installment', 'grade', 'sub_grade',\n",
       "       ...\n",
       "       'num_tl_90g_dpd_24m', 'num_tl_op_past_12m', 'pct_tl_nvr_dlq',\n",
       "       'percent_bc_gt_75', 'pub_rec_bankruptcies', 'tax_liens',\n",
       "       'tot_hi_cred_lim', 'total_bal_ex_mort', 'total_bc_limit',\n",
       "       'total_il_high_credit_limit'],\n",
       "      dtype='object', length=111)"
      ]
     },
     "execution_count": 4,
     "metadata": {},
     "output_type": "execute_result"
    }
   ],
   "source": [
    "df.columns"
   ]
  },
  {
   "cell_type": "markdown",
   "metadata": {},
   "source": [
    "### Question 2. Data `Wrangling`"
   ]
  },
  {
   "cell_type": "markdown",
   "metadata": {},
   "source": [
    "#### Question 2.1. How would you check the number of missing values in each column?"
   ]
  },
  {
   "cell_type": "code",
   "execution_count": 5,
   "metadata": {},
   "outputs": [
    {
     "data": {
      "text/plain": [
       "id                                0\n",
       "member_id                         0\n",
       "loan_amnt                         0\n",
       "funded_amnt                       0\n",
       "funded_amnt_inv                   0\n",
       "                              ...  \n",
       "tax_liens                        39\n",
       "tot_hi_cred_lim               39717\n",
       "total_bal_ex_mort             39717\n",
       "total_bc_limit                39717\n",
       "total_il_high_credit_limit    39717\n",
       "Length: 111, dtype: int64"
      ]
     },
     "execution_count": 5,
     "metadata": {},
     "output_type": "execute_result"
    }
   ],
   "source": [
    "df.isnull().sum()"
   ]
  },
  {
   "cell_type": "markdown",
   "metadata": {},
   "source": [
    "> There are columns have a large number of missing values \n",
    "\n",
    "> Let's clean them first."
   ]
  },
  {
   "cell_type": "markdown",
   "metadata": {},
   "source": [
    "#### Question 2.2. How would you find the percentage of missing values in each column? \n",
    "> Hint: Use the missing values and divide it by something."
   ]
  },
  {
   "cell_type": "code",
   "execution_count": 6,
   "metadata": {},
   "outputs": [
    {
     "data": {
      "text/plain": [
       "id                              0.000000\n",
       "member_id                       0.000000\n",
       "loan_amnt                       0.000000\n",
       "funded_amnt                     0.000000\n",
       "funded_amnt_inv                 0.000000\n",
       "                                 ...    \n",
       "tax_liens                       0.098195\n",
       "tot_hi_cred_lim               100.000000\n",
       "total_bal_ex_mort             100.000000\n",
       "total_bc_limit                100.000000\n",
       "total_il_high_credit_limit    100.000000\n",
       "Length: 111, dtype: float64"
      ]
     },
     "execution_count": 6,
     "metadata": {},
     "output_type": "execute_result"
    }
   ],
   "source": [
    "percent_missing = (df.isnull().sum()/len(df.index))*100\n",
    "percent_missing"
   ]
  },
  {
   "cell_type": "markdown",
   "metadata": {},
   "source": [
    "#### Question 2.3. How would you remove the columns having more than 90% missing values?"
   ]
  },
  {
   "cell_type": "code",
   "execution_count": 7,
   "metadata": {},
   "outputs": [],
   "source": [
    "columns_with_missing = df.columns[(df\n",
    "                                      .isnull()\n",
    "                                      .sum() / len(df.index)\n",
    "                                     ) * 100 > 90]\n",
    "\n",
    "data_cleaned= df.drop(columns_with_missing,\n",
    "                        axis = 1)"
   ]
  },
  {
   "cell_type": "code",
   "execution_count": 8,
   "metadata": {},
   "outputs": [],
   "source": [
    "cleaned_datav2 = df.drop(list(percent_missing [percent_missing > 0.90].index),\n",
    "          axis = 1)"
   ]
  },
  {
   "cell_type": "markdown",
   "metadata": {},
   "source": [
    "> Let's check the number of missing values again."
   ]
  },
  {
   "cell_type": "code",
   "execution_count": 9,
   "metadata": {},
   "outputs": [
    {
     "data": {
      "text/plain": [
       "(39717, 55)"
      ]
     },
     "execution_count": 9,
     "metadata": {},
     "output_type": "execute_result"
    }
   ],
   "source": [
    "data_cleaned.shape"
   ]
  },
  {
   "cell_type": "code",
   "execution_count": 10,
   "metadata": {},
   "outputs": [
    {
     "data": {
      "text/plain": [
       "(39717, 50)"
      ]
     },
     "execution_count": 10,
     "metadata": {},
     "output_type": "execute_result"
    }
   ],
   "source": [
    "cleaned_datav2.shape # should expect the same number of columns cleared but no"
   ]
  },
  {
   "cell_type": "code",
   "execution_count": 11,
   "metadata": {},
   "outputs": [
    {
     "data": {
      "text/plain": [
       "mths_since_last_delinq        0.646625\n",
       "desc                          0.325805\n",
       "emp_title                     0.061913\n",
       "emp_length                    0.027066\n",
       "pub_rec_bankruptcies          0.017549\n",
       "last_pymnt_d                  0.001788\n",
       "chargeoff_within_12_mths      0.001410\n",
       "collections_12_mths_ex_med    0.001410\n",
       "revol_util                    0.001259\n",
       "tax_liens                     0.000982\n",
       "title                         0.000277\n",
       "last_credit_pull_d            0.000050\n",
       "out_prncp                     0.000000\n",
       "initial_list_status           0.000000\n",
       "out_prncp_inv                 0.000000\n",
       "total_pymnt                   0.000000\n",
       "total_acc                     0.000000\n",
       "total_pymnt_inv               0.000000\n",
       "recoveries                    0.000000\n",
       "total_rec_prncp               0.000000\n",
       "total_rec_int                 0.000000\n",
       "total_rec_late_fee            0.000000\n",
       "pub_rec                       0.000000\n",
       "collection_recovery_fee       0.000000\n",
       "last_pymnt_amnt               0.000000\n",
       "policy_code                   0.000000\n",
       "application_type              0.000000\n",
       "acc_now_delinq                0.000000\n",
       "delinq_amnt                   0.000000\n",
       "revol_bal                     0.000000\n",
       "id                            0.000000\n",
       "open_acc                      0.000000\n",
       "member_id                     0.000000\n",
       "loan_amnt                     0.000000\n",
       "funded_amnt                   0.000000\n",
       "funded_amnt_inv               0.000000\n",
       "term                          0.000000\n",
       "int_rate                      0.000000\n",
       "installment                   0.000000\n",
       "grade                         0.000000\n",
       "sub_grade                     0.000000\n",
       "home_ownership                0.000000\n",
       "annual_inc                    0.000000\n",
       "verification_status           0.000000\n",
       "issue_d                       0.000000\n",
       "loan_status                   0.000000\n",
       "pymnt_plan                    0.000000\n",
       "url                           0.000000\n",
       "purpose                       0.000000\n",
       "zip_code                      0.000000\n",
       "addr_state                    0.000000\n",
       "dti                           0.000000\n",
       "delinq_2yrs                   0.000000\n",
       "earliest_cr_line              0.000000\n",
       "inq_last_6mths                0.000000\n",
       "dtype: float64"
      ]
     },
     "execution_count": 11,
     "metadata": {},
     "output_type": "execute_result"
    }
   ],
   "source": [
    "(data_cleaned\n",
    "    .isnull()\n",
    "    .sum() / len(data_cleaned.index)\n",
    ").sort_values(ascending = False)"
   ]
  },
  {
   "cell_type": "markdown",
   "metadata": {},
   "source": [
    "#### Question 2.4. How would you remove columns having more than 30% of missing values?\n",
    "> Hint: With so **few** columns with more than 30% missing values, can you `drop` them by **name**?"
   ]
  },
  {
   "cell_type": "code",
   "execution_count": 12,
   "metadata": {},
   "outputs": [],
   "source": [
    "data_cleaned = data_cleaned.drop([\"mths_since_last_delinq\",\n",
    "                                  \"desc\"],\n",
    "                                 axis = 1)"
   ]
  },
  {
   "cell_type": "markdown",
   "metadata": {},
   "source": [
    "> Let's check number of missing values again, does all columns have **less than** 90% missing values?"
   ]
  },
  {
   "cell_type": "code",
   "execution_count": 13,
   "metadata": {},
   "outputs": [
    {
     "data": {
      "text/plain": [
       "emp_title                     0.061913\n",
       "emp_length                    0.027066\n",
       "pub_rec_bankruptcies          0.017549\n",
       "last_pymnt_d                  0.001788\n",
       "collections_12_mths_ex_med    0.001410\n",
       "chargeoff_within_12_mths      0.001410\n",
       "revol_util                    0.001259\n",
       "tax_liens                     0.000982\n",
       "title                         0.000277\n",
       "last_credit_pull_d            0.000050\n",
       "total_rec_prncp               0.000000\n",
       "out_prncp                     0.000000\n",
       "initial_list_status           0.000000\n",
       "out_prncp_inv                 0.000000\n",
       "total_acc                     0.000000\n",
       "total_pymnt                   0.000000\n",
       "total_pymnt_inv               0.000000\n",
       "collection_recovery_fee       0.000000\n",
       "total_rec_int                 0.000000\n",
       "total_rec_late_fee            0.000000\n",
       "recoveries                    0.000000\n",
       "pub_rec                       0.000000\n",
       "last_pymnt_amnt               0.000000\n",
       "policy_code                   0.000000\n",
       "application_type              0.000000\n",
       "acc_now_delinq                0.000000\n",
       "delinq_amnt                   0.000000\n",
       "revol_bal                     0.000000\n",
       "id                            0.000000\n",
       "open_acc                      0.000000\n",
       "member_id                     0.000000\n",
       "loan_amnt                     0.000000\n",
       "funded_amnt                   0.000000\n",
       "funded_amnt_inv               0.000000\n",
       "term                          0.000000\n",
       "int_rate                      0.000000\n",
       "installment                   0.000000\n",
       "grade                         0.000000\n",
       "sub_grade                     0.000000\n",
       "home_ownership                0.000000\n",
       "annual_inc                    0.000000\n",
       "verification_status           0.000000\n",
       "issue_d                       0.000000\n",
       "loan_status                   0.000000\n",
       "pymnt_plan                    0.000000\n",
       "url                           0.000000\n",
       "purpose                       0.000000\n",
       "zip_code                      0.000000\n",
       "addr_state                    0.000000\n",
       "dti                           0.000000\n",
       "delinq_2yrs                   0.000000\n",
       "earliest_cr_line              0.000000\n",
       "inq_last_6mths                0.000000\n",
       "dtype: float64"
      ]
     },
     "execution_count": 13,
     "metadata": {},
     "output_type": "execute_result"
    }
   ],
   "source": [
    "(data_cleaned\n",
    "    .isnull()\n",
    "    .sum() / len(data_cleaned.index)\n",
    ").sort_values(ascending = False)"
   ]
  },
  {
   "cell_type": "markdown",
   "metadata": {},
   "source": [
    "#### Question 2.5. How would you check missing values rows-wise, by the way?\n",
    "> Hint: What does the `axis` argument do?"
   ]
  },
  {
   "cell_type": "code",
   "execution_count": 14,
   "metadata": {},
   "outputs": [
    {
     "data": {
      "text/plain": [
       "0        1\n",
       "1        0\n",
       "2        1\n",
       "3        0\n",
       "4        0\n",
       "        ..\n",
       "39712    4\n",
       "39713    4\n",
       "39714    5\n",
       "39715    5\n",
       "39716    4\n",
       "Length: 39717, dtype: int64"
      ]
     },
     "execution_count": 14,
     "metadata": {},
     "output_type": "execute_result"
    }
   ],
   "source": [
    "data_cleaned.isnull().sum(axis = 1)"
   ]
  },
  {
   "cell_type": "markdown",
   "metadata": {},
   "source": [
    "> How would you check whether some rows have more than 5 missing values"
   ]
  },
  {
   "cell_type": "code",
   "execution_count": 15,
   "metadata": {},
   "outputs": [
    {
     "data": {
      "text/html": [
       "<div>\n",
       "<style scoped>\n",
       "    .dataframe tbody tr th:only-of-type {\n",
       "        vertical-align: middle;\n",
       "    }\n",
       "\n",
       "    .dataframe tbody tr th {\n",
       "        vertical-align: top;\n",
       "    }\n",
       "\n",
       "    .dataframe thead th {\n",
       "        text-align: right;\n",
       "    }\n",
       "</style>\n",
       "<table border=\"1\" class=\"dataframe\">\n",
       "  <thead>\n",
       "    <tr style=\"text-align: right;\">\n",
       "      <th></th>\n",
       "      <th>id</th>\n",
       "      <th>member_id</th>\n",
       "      <th>loan_amnt</th>\n",
       "      <th>funded_amnt</th>\n",
       "      <th>funded_amnt_inv</th>\n",
       "      <th>term</th>\n",
       "      <th>int_rate</th>\n",
       "      <th>installment</th>\n",
       "      <th>grade</th>\n",
       "      <th>sub_grade</th>\n",
       "      <th>...</th>\n",
       "      <th>last_pymnt_amnt</th>\n",
       "      <th>last_credit_pull_d</th>\n",
       "      <th>collections_12_mths_ex_med</th>\n",
       "      <th>policy_code</th>\n",
       "      <th>application_type</th>\n",
       "      <th>acc_now_delinq</th>\n",
       "      <th>chargeoff_within_12_mths</th>\n",
       "      <th>delinq_amnt</th>\n",
       "      <th>pub_rec_bankruptcies</th>\n",
       "      <th>tax_liens</th>\n",
       "    </tr>\n",
       "  </thead>\n",
       "  <tbody>\n",
       "  </tbody>\n",
       "</table>\n",
       "<p>0 rows × 53 columns</p>\n",
       "</div>"
      ],
      "text/plain": [
       "Empty DataFrame\n",
       "Columns: [id, member_id, loan_amnt, funded_amnt, funded_amnt_inv, term, int_rate, installment, grade, sub_grade, emp_title, emp_length, home_ownership, annual_inc, verification_status, issue_d, loan_status, pymnt_plan, url, purpose, title, zip_code, addr_state, dti, delinq_2yrs, earliest_cr_line, inq_last_6mths, open_acc, pub_rec, revol_bal, revol_util, total_acc, initial_list_status, out_prncp, out_prncp_inv, total_pymnt, total_pymnt_inv, total_rec_prncp, total_rec_int, total_rec_late_fee, recoveries, collection_recovery_fee, last_pymnt_d, last_pymnt_amnt, last_credit_pull_d, collections_12_mths_ex_med, policy_code, application_type, acc_now_delinq, chargeoff_within_12_mths, delinq_amnt, pub_rec_bankruptcies, tax_liens]\n",
       "Index: []\n",
       "\n",
       "[0 rows x 53 columns]"
      ]
     },
     "execution_count": 15,
     "metadata": {},
     "output_type": "execute_result"
    }
   ],
   "source": [
    "data_cleaned.loc[data_cleaned.isnull().sum(axis = 1)>5,:]"
   ]
  },
  {
   "cell_type": "markdown",
   "metadata": {},
   "source": [
    "> The dataset is cleaned now; let's check whether all the columns are in the correct format or not."
   ]
  },
  {
   "cell_type": "code",
   "execution_count": 16,
   "metadata": {},
   "outputs": [
    {
     "name": "stdout",
     "output_type": "stream",
     "text": [
      "<class 'pandas.core.frame.DataFrame'>\n",
      "RangeIndex: 39717 entries, 0 to 39716\n",
      "Data columns (total 53 columns):\n",
      " #   Column                      Non-Null Count  Dtype  \n",
      "---  ------                      --------------  -----  \n",
      " 0   id                          39717 non-null  int64  \n",
      " 1   member_id                   39717 non-null  int64  \n",
      " 2   loan_amnt                   39717 non-null  int64  \n",
      " 3   funded_amnt                 39717 non-null  int64  \n",
      " 4   funded_amnt_inv             39717 non-null  float64\n",
      " 5   term                        39717 non-null  object \n",
      " 6   int_rate                    39717 non-null  object \n",
      " 7   installment                 39717 non-null  float64\n",
      " 8   grade                       39717 non-null  object \n",
      " 9   sub_grade                   39717 non-null  object \n",
      " 10  emp_title                   37258 non-null  object \n",
      " 11  emp_length                  38642 non-null  object \n",
      " 12  home_ownership              39717 non-null  object \n",
      " 13  annual_inc                  39717 non-null  float64\n",
      " 14  verification_status         39717 non-null  object \n",
      " 15  issue_d                     39717 non-null  object \n",
      " 16  loan_status                 39717 non-null  object \n",
      " 17  pymnt_plan                  39717 non-null  object \n",
      " 18  url                         39717 non-null  object \n",
      " 19  purpose                     39717 non-null  object \n",
      " 20  title                       39706 non-null  object \n",
      " 21  zip_code                    39717 non-null  object \n",
      " 22  addr_state                  39717 non-null  object \n",
      " 23  dti                         39717 non-null  float64\n",
      " 24  delinq_2yrs                 39717 non-null  int64  \n",
      " 25  earliest_cr_line            39717 non-null  object \n",
      " 26  inq_last_6mths              39717 non-null  int64  \n",
      " 27  open_acc                    39717 non-null  int64  \n",
      " 28  pub_rec                     39717 non-null  int64  \n",
      " 29  revol_bal                   39717 non-null  int64  \n",
      " 30  revol_util                  39667 non-null  object \n",
      " 31  total_acc                   39717 non-null  int64  \n",
      " 32  initial_list_status         39717 non-null  object \n",
      " 33  out_prncp                   39717 non-null  float64\n",
      " 34  out_prncp_inv               39717 non-null  float64\n",
      " 35  total_pymnt                 39717 non-null  float64\n",
      " 36  total_pymnt_inv             39717 non-null  float64\n",
      " 37  total_rec_prncp             39717 non-null  float64\n",
      " 38  total_rec_int               39717 non-null  float64\n",
      " 39  total_rec_late_fee          39717 non-null  float64\n",
      " 40  recoveries                  39717 non-null  float64\n",
      " 41  collection_recovery_fee     39717 non-null  float64\n",
      " 42  last_pymnt_d                39646 non-null  object \n",
      " 43  last_pymnt_amnt             39717 non-null  float64\n",
      " 44  last_credit_pull_d          39715 non-null  object \n",
      " 45  collections_12_mths_ex_med  39661 non-null  float64\n",
      " 46  policy_code                 39717 non-null  int64  \n",
      " 47  application_type            39717 non-null  object \n",
      " 48  acc_now_delinq              39717 non-null  int64  \n",
      " 49  chargeoff_within_12_mths    39661 non-null  float64\n",
      " 50  delinq_amnt                 39717 non-null  int64  \n",
      " 51  pub_rec_bankruptcies        39020 non-null  float64\n",
      " 52  tax_liens                   39678 non-null  float64\n",
      "dtypes: float64(18), int64(13), object(22)\n",
      "memory usage: 16.1+ MB\n"
     ]
    }
   ],
   "source": [
    "data_cleaned.info()"
   ]
  },
  {
   "cell_type": "markdown",
   "metadata": {},
   "source": [
    "> The column `int_rate` is character type, let's convert it to float."
   ]
  },
  {
   "cell_type": "markdown",
   "metadata": {},
   "source": [
    "#### Question 2.6. How would you use `lambda` to convert the data type of `int_rate`?"
   ]
  },
  {
   "cell_type": "code",
   "execution_count": 17,
   "metadata": {},
   "outputs": [],
   "source": [
    "data_cleaned[\"int_rate\"] = data_cleaned[\"int_rate\"].apply(lambda x: pd.to_numeric(x.split(\"%\")[0])) \n",
    "# to strip off its percentage sign"
   ]
  },
  {
   "cell_type": "markdown",
   "metadata": {},
   "source": [
    "> Let's check the data types again."
   ]
  },
  {
   "cell_type": "code",
   "execution_count": 18,
   "metadata": {},
   "outputs": [
    {
     "name": "stdout",
     "output_type": "stream",
     "text": [
      "<class 'pandas.core.frame.DataFrame'>\n",
      "RangeIndex: 39717 entries, 0 to 39716\n",
      "Data columns (total 53 columns):\n",
      " #   Column                      Non-Null Count  Dtype  \n",
      "---  ------                      --------------  -----  \n",
      " 0   id                          39717 non-null  int64  \n",
      " 1   member_id                   39717 non-null  int64  \n",
      " 2   loan_amnt                   39717 non-null  int64  \n",
      " 3   funded_amnt                 39717 non-null  int64  \n",
      " 4   funded_amnt_inv             39717 non-null  float64\n",
      " 5   term                        39717 non-null  object \n",
      " 6   int_rate                    39717 non-null  float64\n",
      " 7   installment                 39717 non-null  float64\n",
      " 8   grade                       39717 non-null  object \n",
      " 9   sub_grade                   39717 non-null  object \n",
      " 10  emp_title                   37258 non-null  object \n",
      " 11  emp_length                  38642 non-null  object \n",
      " 12  home_ownership              39717 non-null  object \n",
      " 13  annual_inc                  39717 non-null  float64\n",
      " 14  verification_status         39717 non-null  object \n",
      " 15  issue_d                     39717 non-null  object \n",
      " 16  loan_status                 39717 non-null  object \n",
      " 17  pymnt_plan                  39717 non-null  object \n",
      " 18  url                         39717 non-null  object \n",
      " 19  purpose                     39717 non-null  object \n",
      " 20  title                       39706 non-null  object \n",
      " 21  zip_code                    39717 non-null  object \n",
      " 22  addr_state                  39717 non-null  object \n",
      " 23  dti                         39717 non-null  float64\n",
      " 24  delinq_2yrs                 39717 non-null  int64  \n",
      " 25  earliest_cr_line            39717 non-null  object \n",
      " 26  inq_last_6mths              39717 non-null  int64  \n",
      " 27  open_acc                    39717 non-null  int64  \n",
      " 28  pub_rec                     39717 non-null  int64  \n",
      " 29  revol_bal                   39717 non-null  int64  \n",
      " 30  revol_util                  39667 non-null  object \n",
      " 31  total_acc                   39717 non-null  int64  \n",
      " 32  initial_list_status         39717 non-null  object \n",
      " 33  out_prncp                   39717 non-null  float64\n",
      " 34  out_prncp_inv               39717 non-null  float64\n",
      " 35  total_pymnt                 39717 non-null  float64\n",
      " 36  total_pymnt_inv             39717 non-null  float64\n",
      " 37  total_rec_prncp             39717 non-null  float64\n",
      " 38  total_rec_int               39717 non-null  float64\n",
      " 39  total_rec_late_fee          39717 non-null  float64\n",
      " 40  recoveries                  39717 non-null  float64\n",
      " 41  collection_recovery_fee     39717 non-null  float64\n",
      " 42  last_pymnt_d                39646 non-null  object \n",
      " 43  last_pymnt_amnt             39717 non-null  float64\n",
      " 44  last_credit_pull_d          39715 non-null  object \n",
      " 45  collections_12_mths_ex_med  39661 non-null  float64\n",
      " 46  policy_code                 39717 non-null  int64  \n",
      " 47  application_type            39717 non-null  object \n",
      " 48  acc_now_delinq              39717 non-null  int64  \n",
      " 49  chargeoff_within_12_mths    39661 non-null  float64\n",
      " 50  delinq_amnt                 39717 non-null  int64  \n",
      " 51  pub_rec_bankruptcies        39020 non-null  float64\n",
      " 52  tax_liens                   39678 non-null  float64\n",
      "dtypes: float64(19), int64(13), object(21)\n",
      "memory usage: 16.1+ MB\n"
     ]
    }
   ],
   "source": [
    "data_cleaned.info()"
   ]
  },
  {
   "cell_type": "markdown",
   "metadata": {},
   "source": [
    "> Lets extract the numeric part from the variable employment length.\n",
    "\n",
    "> First, let's drop the missing values from the column (otherwise the regex code below throws error) using regular expression to extract numeric values from the string convert to numeric"
   ]
  },
  {
   "cell_type": "code",
   "execution_count": 19,
   "metadata": {},
   "outputs": [],
   "source": [
    "import re"
   ]
  },
  {
   "cell_type": "code",
   "execution_count": 20,
   "metadata": {},
   "outputs": [
    {
     "data": {
      "text/plain": [
       "Index(['id', 'member_id', 'loan_amnt', 'funded_amnt', 'funded_amnt_inv',\n",
       "       'term', 'int_rate', 'installment', 'grade', 'sub_grade', 'emp_title',\n",
       "       'emp_length', 'home_ownership', 'annual_inc', 'verification_status',\n",
       "       'issue_d', 'loan_status', 'pymnt_plan', 'url', 'purpose', 'title',\n",
       "       'zip_code', 'addr_state', 'dti', 'delinq_2yrs', 'earliest_cr_line',\n",
       "       'inq_last_6mths', 'open_acc', 'pub_rec', 'revol_bal', 'revol_util',\n",
       "       'total_acc', 'initial_list_status', 'out_prncp', 'out_prncp_inv',\n",
       "       'total_pymnt', 'total_pymnt_inv', 'total_rec_prncp', 'total_rec_int',\n",
       "       'total_rec_late_fee', 'recoveries', 'collection_recovery_fee',\n",
       "       'last_pymnt_d', 'last_pymnt_amnt', 'last_credit_pull_d',\n",
       "       'collections_12_mths_ex_med', 'policy_code', 'application_type',\n",
       "       'acc_now_delinq', 'chargeoff_within_12_mths', 'delinq_amnt',\n",
       "       'pub_rec_bankruptcies', 'tax_liens'],\n",
       "      dtype='object')"
      ]
     },
     "execution_count": 20,
     "metadata": {},
     "output_type": "execute_result"
    }
   ],
   "source": [
    "data_cleaned.columns"
   ]
  },
  {
   "cell_type": "code",
   "execution_count": 21,
   "metadata": {},
   "outputs": [
    {
     "data": {
      "text/plain": [
       "array(['10+ years', '< 1 year', '1 year', '3 years', '8 years', '9 years',\n",
       "       '4 years', '5 years', '6 years', '2 years', '7 years', nan],\n",
       "      dtype=object)"
      ]
     },
     "execution_count": 21,
     "metadata": {},
     "output_type": "execute_result"
    }
   ],
   "source": [
    "data_cleaned[\"emp_length\"].unique()"
   ]
  },
  {
   "cell_type": "code",
   "execution_count": 22,
   "metadata": {},
   "outputs": [],
   "source": [
    "data_cleaned = data_cleaned[~data_cleaned[\"emp_length\"].isnull()] \n",
    "# \"~\" allows us to select all rows that have values in emp_length"
   ]
  },
  {
   "cell_type": "code",
   "execution_count": 23,
   "metadata": {},
   "outputs": [],
   "source": [
    "data_cleaned[\"emp_length\"] = data_cleaned[\"emp_length\"].apply(lambda x: re.findall(\"\\d+\", str(x)\n",
    "                                                     )[0]\n",
    "                                )\n",
    "# \\d+ to get digits to concatante the numbers\n",
    "data_cleaned[\"emp_length\"] = data_cleaned[\"emp_length\"].apply(lambda x: pd.to_numeric(x)\n",
    "                                                             )"
   ]
  },
  {
   "cell_type": "markdown",
   "metadata": {},
   "source": [
    "> Let's take a look at type of the columns again"
   ]
  },
  {
   "cell_type": "code",
   "execution_count": 24,
   "metadata": {},
   "outputs": [
    {
     "name": "stdout",
     "output_type": "stream",
     "text": [
      "<class 'pandas.core.frame.DataFrame'>\n",
      "Int64Index: 38642 entries, 0 to 39716\n",
      "Data columns (total 53 columns):\n",
      " #   Column                      Non-Null Count  Dtype  \n",
      "---  ------                      --------------  -----  \n",
      " 0   id                          38642 non-null  int64  \n",
      " 1   member_id                   38642 non-null  int64  \n",
      " 2   loan_amnt                   38642 non-null  int64  \n",
      " 3   funded_amnt                 38642 non-null  int64  \n",
      " 4   funded_amnt_inv             38642 non-null  float64\n",
      " 5   term                        38642 non-null  object \n",
      " 6   int_rate                    38642 non-null  float64\n",
      " 7   installment                 38642 non-null  float64\n",
      " 8   grade                       38642 non-null  object \n",
      " 9   sub_grade                   38642 non-null  object \n",
      " 10  emp_title                   37202 non-null  object \n",
      " 11  emp_length                  38642 non-null  int64  \n",
      " 12  home_ownership              38642 non-null  object \n",
      " 13  annual_inc                  38642 non-null  float64\n",
      " 14  verification_status         38642 non-null  object \n",
      " 15  issue_d                     38642 non-null  object \n",
      " 16  loan_status                 38642 non-null  object \n",
      " 17  pymnt_plan                  38642 non-null  object \n",
      " 18  url                         38642 non-null  object \n",
      " 19  purpose                     38642 non-null  object \n",
      " 20  title                       38632 non-null  object \n",
      " 21  zip_code                    38642 non-null  object \n",
      " 22  addr_state                  38642 non-null  object \n",
      " 23  dti                         38642 non-null  float64\n",
      " 24  delinq_2yrs                 38642 non-null  int64  \n",
      " 25  earliest_cr_line            38642 non-null  object \n",
      " 26  inq_last_6mths              38642 non-null  int64  \n",
      " 27  open_acc                    38642 non-null  int64  \n",
      " 28  pub_rec                     38642 non-null  int64  \n",
      " 29  revol_bal                   38642 non-null  int64  \n",
      " 30  revol_util                  38595 non-null  object \n",
      " 31  total_acc                   38642 non-null  int64  \n",
      " 32  initial_list_status         38642 non-null  object \n",
      " 33  out_prncp                   38642 non-null  float64\n",
      " 34  out_prncp_inv               38642 non-null  float64\n",
      " 35  total_pymnt                 38642 non-null  float64\n",
      " 36  total_pymnt_inv             38642 non-null  float64\n",
      " 37  total_rec_prncp             38642 non-null  float64\n",
      " 38  total_rec_int               38642 non-null  float64\n",
      " 39  total_rec_late_fee          38642 non-null  float64\n",
      " 40  recoveries                  38642 non-null  float64\n",
      " 41  collection_recovery_fee     38642 non-null  float64\n",
      " 42  last_pymnt_d                38576 non-null  object \n",
      " 43  last_pymnt_amnt             38642 non-null  float64\n",
      " 44  last_credit_pull_d          38640 non-null  object \n",
      " 45  collections_12_mths_ex_med  38586 non-null  float64\n",
      " 46  policy_code                 38642 non-null  int64  \n",
      " 47  application_type            38642 non-null  object \n",
      " 48  acc_now_delinq              38642 non-null  int64  \n",
      " 49  chargeoff_within_12_mths    38586 non-null  float64\n",
      " 50  delinq_amnt                 38642 non-null  int64  \n",
      " 51  pub_rec_bankruptcies        37945 non-null  float64\n",
      " 52  tax_liens                   38603 non-null  float64\n",
      "dtypes: float64(19), int64(14), object(20)\n",
      "memory usage: 15.9+ MB\n"
     ]
    }
   ],
   "source": [
    "data_cleaned.info()"
   ]
  },
  {
   "cell_type": "markdown",
   "metadata": {},
   "source": [
    "### Question 3. Exploratory Data Analysis (EDA)"
   ]
  },
  {
   "cell_type": "markdown",
   "metadata": {},
   "source": [
    "> There are some variables not available at the time of loan application, and thus they cannot be used as predictors for credit approval. "
   ]
  },
  {
   "cell_type": "code",
   "execution_count": 25,
   "metadata": {},
   "outputs": [
    {
     "data": {
      "text/plain": [
       "['delinq_2yrs',\n",
       " 'earliest_cr_line',\n",
       " 'inq_last_6mths',\n",
       " 'open_acc',\n",
       " 'pub_rec',\n",
       " 'revol_bal',\n",
       " 'revol_util',\n",
       " 'total_acc',\n",
       " 'out_prncp',\n",
       " 'out_prncp_inv',\n",
       " 'total_pymnt',\n",
       " 'total_pymnt_inv',\n",
       " 'total_rec_prncp',\n",
       " 'total_rec_int',\n",
       " 'total_rec_late_fee',\n",
       " 'recoveries',\n",
       " 'collection_recovery_fee',\n",
       " 'last_pymnt_d',\n",
       " 'last_pymnt_amnt',\n",
       " 'last_credit_pull_d',\n",
       " 'application_type']"
      ]
     },
     "execution_count": 25,
     "metadata": {},
     "output_type": "execute_result"
    }
   ],
   "source": [
    "variables_to_remove = [\n",
    "  \"delinq_2yrs\",\n",
    "  \"earliest_cr_line\",\n",
    "  \"inq_last_6mths\",\n",
    "  \"open_acc\",\n",
    "  \"pub_rec\",\n",
    "  \"revol_bal\",\n",
    "  \"revol_util\",\n",
    "  \"total_acc\",\n",
    "  \"out_prncp\",\n",
    "  \"out_prncp_inv\",\n",
    "  \"total_pymnt\",\n",
    "  \"total_pymnt_inv\",\n",
    "  \"total_rec_prncp\",\n",
    "  \"total_rec_int\",\n",
    "  \"total_rec_late_fee\",\n",
    "  \"recoveries\",\n",
    "  \"collection_recovery_fee\",\n",
    "  \"last_pymnt_d\",\n",
    "  \"last_pymnt_amnt\",\n",
    "  \"last_credit_pull_d\",\n",
    "  \"application_type\"]\n",
    "\n",
    "variables_to_remove"
   ]
  },
  {
   "cell_type": "markdown",
   "metadata": {},
   "source": [
    "#### Question 3.1. How would you remove the set of variables from `variables_to_remove` from the dataset?"
   ]
  },
  {
   "cell_type": "code",
   "execution_count": 26,
   "metadata": {},
   "outputs": [],
   "source": [
    "data_cleaned = data_cleaned.drop(columns = variables_to_remove)"
   ]
  },
  {
   "cell_type": "code",
   "execution_count": 27,
   "metadata": {},
   "outputs": [
    {
     "data": {
      "text/html": [
       "<div>\n",
       "<style scoped>\n",
       "    .dataframe tbody tr th:only-of-type {\n",
       "        vertical-align: middle;\n",
       "    }\n",
       "\n",
       "    .dataframe tbody tr th {\n",
       "        vertical-align: top;\n",
       "    }\n",
       "\n",
       "    .dataframe thead th {\n",
       "        text-align: right;\n",
       "    }\n",
       "</style>\n",
       "<table border=\"1\" class=\"dataframe\">\n",
       "  <thead>\n",
       "    <tr style=\"text-align: right;\">\n",
       "      <th></th>\n",
       "      <th>id</th>\n",
       "      <th>member_id</th>\n",
       "      <th>loan_amnt</th>\n",
       "      <th>funded_amnt</th>\n",
       "      <th>funded_amnt_inv</th>\n",
       "      <th>term</th>\n",
       "      <th>int_rate</th>\n",
       "      <th>installment</th>\n",
       "      <th>grade</th>\n",
       "      <th>sub_grade</th>\n",
       "      <th>...</th>\n",
       "      <th>addr_state</th>\n",
       "      <th>dti</th>\n",
       "      <th>initial_list_status</th>\n",
       "      <th>collections_12_mths_ex_med</th>\n",
       "      <th>policy_code</th>\n",
       "      <th>acc_now_delinq</th>\n",
       "      <th>chargeoff_within_12_mths</th>\n",
       "      <th>delinq_amnt</th>\n",
       "      <th>pub_rec_bankruptcies</th>\n",
       "      <th>tax_liens</th>\n",
       "    </tr>\n",
       "  </thead>\n",
       "  <tbody>\n",
       "    <tr>\n",
       "      <th>0</th>\n",
       "      <td>1077501</td>\n",
       "      <td>1296599</td>\n",
       "      <td>5000</td>\n",
       "      <td>5000</td>\n",
       "      <td>4975.0</td>\n",
       "      <td>36 months</td>\n",
       "      <td>10.65</td>\n",
       "      <td>162.87</td>\n",
       "      <td>B</td>\n",
       "      <td>B2</td>\n",
       "      <td>...</td>\n",
       "      <td>AZ</td>\n",
       "      <td>27.65</td>\n",
       "      <td>f</td>\n",
       "      <td>0.0</td>\n",
       "      <td>1</td>\n",
       "      <td>0</td>\n",
       "      <td>0.0</td>\n",
       "      <td>0</td>\n",
       "      <td>0.0</td>\n",
       "      <td>0.0</td>\n",
       "    </tr>\n",
       "    <tr>\n",
       "      <th>1</th>\n",
       "      <td>1077430</td>\n",
       "      <td>1314167</td>\n",
       "      <td>2500</td>\n",
       "      <td>2500</td>\n",
       "      <td>2500.0</td>\n",
       "      <td>60 months</td>\n",
       "      <td>15.27</td>\n",
       "      <td>59.83</td>\n",
       "      <td>C</td>\n",
       "      <td>C4</td>\n",
       "      <td>...</td>\n",
       "      <td>GA</td>\n",
       "      <td>1.00</td>\n",
       "      <td>f</td>\n",
       "      <td>0.0</td>\n",
       "      <td>1</td>\n",
       "      <td>0</td>\n",
       "      <td>0.0</td>\n",
       "      <td>0</td>\n",
       "      <td>0.0</td>\n",
       "      <td>0.0</td>\n",
       "    </tr>\n",
       "    <tr>\n",
       "      <th>2</th>\n",
       "      <td>1077175</td>\n",
       "      <td>1313524</td>\n",
       "      <td>2400</td>\n",
       "      <td>2400</td>\n",
       "      <td>2400.0</td>\n",
       "      <td>36 months</td>\n",
       "      <td>15.96</td>\n",
       "      <td>84.33</td>\n",
       "      <td>C</td>\n",
       "      <td>C5</td>\n",
       "      <td>...</td>\n",
       "      <td>IL</td>\n",
       "      <td>8.72</td>\n",
       "      <td>f</td>\n",
       "      <td>0.0</td>\n",
       "      <td>1</td>\n",
       "      <td>0</td>\n",
       "      <td>0.0</td>\n",
       "      <td>0</td>\n",
       "      <td>0.0</td>\n",
       "      <td>0.0</td>\n",
       "    </tr>\n",
       "    <tr>\n",
       "      <th>3</th>\n",
       "      <td>1076863</td>\n",
       "      <td>1277178</td>\n",
       "      <td>10000</td>\n",
       "      <td>10000</td>\n",
       "      <td>10000.0</td>\n",
       "      <td>36 months</td>\n",
       "      <td>13.49</td>\n",
       "      <td>339.31</td>\n",
       "      <td>C</td>\n",
       "      <td>C1</td>\n",
       "      <td>...</td>\n",
       "      <td>CA</td>\n",
       "      <td>20.00</td>\n",
       "      <td>f</td>\n",
       "      <td>0.0</td>\n",
       "      <td>1</td>\n",
       "      <td>0</td>\n",
       "      <td>0.0</td>\n",
       "      <td>0</td>\n",
       "      <td>0.0</td>\n",
       "      <td>0.0</td>\n",
       "    </tr>\n",
       "    <tr>\n",
       "      <th>4</th>\n",
       "      <td>1075358</td>\n",
       "      <td>1311748</td>\n",
       "      <td>3000</td>\n",
       "      <td>3000</td>\n",
       "      <td>3000.0</td>\n",
       "      <td>60 months</td>\n",
       "      <td>12.69</td>\n",
       "      <td>67.79</td>\n",
       "      <td>B</td>\n",
       "      <td>B5</td>\n",
       "      <td>...</td>\n",
       "      <td>OR</td>\n",
       "      <td>17.94</td>\n",
       "      <td>f</td>\n",
       "      <td>0.0</td>\n",
       "      <td>1</td>\n",
       "      <td>0</td>\n",
       "      <td>0.0</td>\n",
       "      <td>0</td>\n",
       "      <td>0.0</td>\n",
       "      <td>0.0</td>\n",
       "    </tr>\n",
       "    <tr>\n",
       "      <th>...</th>\n",
       "      <td>...</td>\n",
       "      <td>...</td>\n",
       "      <td>...</td>\n",
       "      <td>...</td>\n",
       "      <td>...</td>\n",
       "      <td>...</td>\n",
       "      <td>...</td>\n",
       "      <td>...</td>\n",
       "      <td>...</td>\n",
       "      <td>...</td>\n",
       "      <td>...</td>\n",
       "      <td>...</td>\n",
       "      <td>...</td>\n",
       "      <td>...</td>\n",
       "      <td>...</td>\n",
       "      <td>...</td>\n",
       "      <td>...</td>\n",
       "      <td>...</td>\n",
       "      <td>...</td>\n",
       "      <td>...</td>\n",
       "      <td>...</td>\n",
       "    </tr>\n",
       "    <tr>\n",
       "      <th>39712</th>\n",
       "      <td>92187</td>\n",
       "      <td>92174</td>\n",
       "      <td>2500</td>\n",
       "      <td>2500</td>\n",
       "      <td>1075.0</td>\n",
       "      <td>36 months</td>\n",
       "      <td>8.07</td>\n",
       "      <td>78.42</td>\n",
       "      <td>A</td>\n",
       "      <td>A4</td>\n",
       "      <td>...</td>\n",
       "      <td>CO</td>\n",
       "      <td>11.33</td>\n",
       "      <td>f</td>\n",
       "      <td>NaN</td>\n",
       "      <td>1</td>\n",
       "      <td>0</td>\n",
       "      <td>NaN</td>\n",
       "      <td>0</td>\n",
       "      <td>NaN</td>\n",
       "      <td>NaN</td>\n",
       "    </tr>\n",
       "    <tr>\n",
       "      <th>39713</th>\n",
       "      <td>90665</td>\n",
       "      <td>90607</td>\n",
       "      <td>8500</td>\n",
       "      <td>8500</td>\n",
       "      <td>875.0</td>\n",
       "      <td>36 months</td>\n",
       "      <td>10.28</td>\n",
       "      <td>275.38</td>\n",
       "      <td>C</td>\n",
       "      <td>C1</td>\n",
       "      <td>...</td>\n",
       "      <td>NC</td>\n",
       "      <td>6.40</td>\n",
       "      <td>f</td>\n",
       "      <td>NaN</td>\n",
       "      <td>1</td>\n",
       "      <td>0</td>\n",
       "      <td>NaN</td>\n",
       "      <td>0</td>\n",
       "      <td>NaN</td>\n",
       "      <td>NaN</td>\n",
       "    </tr>\n",
       "    <tr>\n",
       "      <th>39714</th>\n",
       "      <td>90395</td>\n",
       "      <td>90390</td>\n",
       "      <td>5000</td>\n",
       "      <td>5000</td>\n",
       "      <td>1325.0</td>\n",
       "      <td>36 months</td>\n",
       "      <td>8.07</td>\n",
       "      <td>156.84</td>\n",
       "      <td>A</td>\n",
       "      <td>A4</td>\n",
       "      <td>...</td>\n",
       "      <td>MA</td>\n",
       "      <td>2.30</td>\n",
       "      <td>f</td>\n",
       "      <td>NaN</td>\n",
       "      <td>1</td>\n",
       "      <td>0</td>\n",
       "      <td>NaN</td>\n",
       "      <td>0</td>\n",
       "      <td>NaN</td>\n",
       "      <td>NaN</td>\n",
       "    </tr>\n",
       "    <tr>\n",
       "      <th>39715</th>\n",
       "      <td>90376</td>\n",
       "      <td>89243</td>\n",
       "      <td>5000</td>\n",
       "      <td>5000</td>\n",
       "      <td>650.0</td>\n",
       "      <td>36 months</td>\n",
       "      <td>7.43</td>\n",
       "      <td>155.38</td>\n",
       "      <td>A</td>\n",
       "      <td>A2</td>\n",
       "      <td>...</td>\n",
       "      <td>MD</td>\n",
       "      <td>3.72</td>\n",
       "      <td>f</td>\n",
       "      <td>NaN</td>\n",
       "      <td>1</td>\n",
       "      <td>0</td>\n",
       "      <td>NaN</td>\n",
       "      <td>0</td>\n",
       "      <td>NaN</td>\n",
       "      <td>NaN</td>\n",
       "    </tr>\n",
       "    <tr>\n",
       "      <th>39716</th>\n",
       "      <td>87023</td>\n",
       "      <td>86999</td>\n",
       "      <td>7500</td>\n",
       "      <td>7500</td>\n",
       "      <td>800.0</td>\n",
       "      <td>36 months</td>\n",
       "      <td>13.75</td>\n",
       "      <td>255.43</td>\n",
       "      <td>E</td>\n",
       "      <td>E2</td>\n",
       "      <td>...</td>\n",
       "      <td>MA</td>\n",
       "      <td>14.29</td>\n",
       "      <td>f</td>\n",
       "      <td>NaN</td>\n",
       "      <td>1</td>\n",
       "      <td>0</td>\n",
       "      <td>NaN</td>\n",
       "      <td>0</td>\n",
       "      <td>NaN</td>\n",
       "      <td>NaN</td>\n",
       "    </tr>\n",
       "  </tbody>\n",
       "</table>\n",
       "<p>38642 rows × 32 columns</p>\n",
       "</div>"
      ],
      "text/plain": [
       "            id  member_id  loan_amnt  funded_amnt  funded_amnt_inv  \\\n",
       "0      1077501    1296599       5000         5000           4975.0   \n",
       "1      1077430    1314167       2500         2500           2500.0   \n",
       "2      1077175    1313524       2400         2400           2400.0   \n",
       "3      1076863    1277178      10000        10000          10000.0   \n",
       "4      1075358    1311748       3000         3000           3000.0   \n",
       "...        ...        ...        ...          ...              ...   \n",
       "39712    92187      92174       2500         2500           1075.0   \n",
       "39713    90665      90607       8500         8500            875.0   \n",
       "39714    90395      90390       5000         5000           1325.0   \n",
       "39715    90376      89243       5000         5000            650.0   \n",
       "39716    87023      86999       7500         7500            800.0   \n",
       "\n",
       "             term  int_rate  installment grade sub_grade  ... addr_state  \\\n",
       "0       36 months     10.65       162.87     B        B2  ...         AZ   \n",
       "1       60 months     15.27        59.83     C        C4  ...         GA   \n",
       "2       36 months     15.96        84.33     C        C5  ...         IL   \n",
       "3       36 months     13.49       339.31     C        C1  ...         CA   \n",
       "4       60 months     12.69        67.79     B        B5  ...         OR   \n",
       "...           ...       ...          ...   ...       ...  ...        ...   \n",
       "39712   36 months      8.07        78.42     A        A4  ...         CO   \n",
       "39713   36 months     10.28       275.38     C        C1  ...         NC   \n",
       "39714   36 months      8.07       156.84     A        A4  ...         MA   \n",
       "39715   36 months      7.43       155.38     A        A2  ...         MD   \n",
       "39716   36 months     13.75       255.43     E        E2  ...         MA   \n",
       "\n",
       "         dti initial_list_status  collections_12_mths_ex_med policy_code  \\\n",
       "0      27.65                   f                         0.0           1   \n",
       "1       1.00                   f                         0.0           1   \n",
       "2       8.72                   f                         0.0           1   \n",
       "3      20.00                   f                         0.0           1   \n",
       "4      17.94                   f                         0.0           1   \n",
       "...      ...                 ...                         ...         ...   \n",
       "39712  11.33                   f                         NaN           1   \n",
       "39713   6.40                   f                         NaN           1   \n",
       "39714   2.30                   f                         NaN           1   \n",
       "39715   3.72                   f                         NaN           1   \n",
       "39716  14.29                   f                         NaN           1   \n",
       "\n",
       "      acc_now_delinq chargeoff_within_12_mths delinq_amnt  \\\n",
       "0                  0                      0.0           0   \n",
       "1                  0                      0.0           0   \n",
       "2                  0                      0.0           0   \n",
       "3                  0                      0.0           0   \n",
       "4                  0                      0.0           0   \n",
       "...              ...                      ...         ...   \n",
       "39712              0                      NaN           0   \n",
       "39713              0                      NaN           0   \n",
       "39714              0                      NaN           0   \n",
       "39715              0                      NaN           0   \n",
       "39716              0                      NaN           0   \n",
       "\n",
       "      pub_rec_bankruptcies tax_liens  \n",
       "0                      0.0       0.0  \n",
       "1                      0.0       0.0  \n",
       "2                      0.0       0.0  \n",
       "3                      0.0       0.0  \n",
       "4                      0.0       0.0  \n",
       "...                    ...       ...  \n",
       "39712                  NaN       NaN  \n",
       "39713                  NaN       NaN  \n",
       "39714                  NaN       NaN  \n",
       "39715                  NaN       NaN  \n",
       "39716                  NaN       NaN  \n",
       "\n",
       "[38642 rows x 32 columns]"
      ]
     },
     "execution_count": 27,
     "metadata": {},
     "output_type": "execute_result"
    }
   ],
   "source": [
    "data_cleaned"
   ]
  },
  {
   "cell_type": "markdown",
   "metadata": {},
   "source": [
    "#### Question 3.2. Are there any other variables that we can remove from the dataset also?\n",
    "\n",
    "-  Also, we won't use the variables zip code, address, state etc. \n",
    "-  The variable `title` is derived from the variable `purpose` thus let get rid of all these variables as well"
   ]
  },
  {
   "cell_type": "code",
   "execution_count": 28,
   "metadata": {},
   "outputs": [
    {
     "data": {
      "text/plain": [
       "Index(['id', 'member_id', 'loan_amnt', 'funded_amnt', 'funded_amnt_inv',\n",
       "       'term', 'int_rate', 'installment', 'grade', 'sub_grade', 'emp_title',\n",
       "       'emp_length', 'home_ownership', 'annual_inc', 'verification_status',\n",
       "       'issue_d', 'loan_status', 'pymnt_plan', 'url', 'purpose', 'title',\n",
       "       'zip_code', 'addr_state', 'dti', 'initial_list_status',\n",
       "       'collections_12_mths_ex_med', 'policy_code', 'acc_now_delinq',\n",
       "       'chargeoff_within_12_mths', 'delinq_amnt', 'pub_rec_bankruptcies',\n",
       "       'tax_liens'],\n",
       "      dtype='object')"
      ]
     },
     "execution_count": 28,
     "metadata": {},
     "output_type": "execute_result"
    }
   ],
   "source": [
    "data_cleaned.columns"
   ]
  },
  {
   "cell_type": "code",
   "execution_count": 29,
   "metadata": {},
   "outputs": [
    {
     "data": {
      "text/plain": [
       "32"
      ]
     },
     "execution_count": 29,
     "metadata": {},
     "output_type": "execute_result"
    }
   ],
   "source": [
    "len(data_cleaned.columns)"
   ]
  },
  {
   "cell_type": "code",
   "execution_count": 30,
   "metadata": {},
   "outputs": [],
   "source": [
    "# remove zip code, address, addr_state, title, purpose \n",
    "additional_remove = [\"zip_code\",\n",
    "                    \"addr_state\",\n",
    "                    \"title\"]\n",
    "                    \n",
    "data_cleaned = data_cleaned.drop(columns = additional_remove)"
   ]
  },
  {
   "cell_type": "code",
   "execution_count": 31,
   "metadata": {},
   "outputs": [
    {
     "data": {
      "text/plain": [
       "Index(['id', 'member_id', 'loan_amnt', 'funded_amnt', 'funded_amnt_inv',\n",
       "       'term', 'int_rate', 'installment', 'grade', 'sub_grade', 'emp_title',\n",
       "       'emp_length', 'home_ownership', 'annual_inc', 'verification_status',\n",
       "       'issue_d', 'loan_status', 'pymnt_plan', 'url', 'purpose', 'dti',\n",
       "       'initial_list_status', 'collections_12_mths_ex_med', 'policy_code',\n",
       "       'acc_now_delinq', 'chargeoff_within_12_mths', 'delinq_amnt',\n",
       "       'pub_rec_bankruptcies', 'tax_liens'],\n",
       "      dtype='object')"
      ]
     },
     "execution_count": 31,
     "metadata": {},
     "output_type": "execute_result"
    }
   ],
   "source": [
    "data_cleaned.columns"
   ]
  },
  {
   "cell_type": "code",
   "execution_count": 32,
   "metadata": {},
   "outputs": [
    {
     "data": {
      "text/plain": [
       "29"
      ]
     },
     "execution_count": 32,
     "metadata": {},
     "output_type": "execute_result"
    }
   ],
   "source": [
    "len(data_cleaned.columns)"
   ]
  },
  {
   "cell_type": "markdown",
   "metadata": {},
   "source": [
    "#### Question 3.3. Let's have a look at the target variable--`loan_status`. \n",
    "\n",
    "> Objecive: Re-label the values to a `binary form`: namely, `0` or `1`, \n",
    ">\n",
    "> - 1 indicating that the person has defaulted and \n",
    "> - 0 otherwise.\n",
    "\n",
    "But first, what makes up the target variable--`loan_status`?"
   ]
  },
  {
   "cell_type": "code",
   "execution_count": 33,
   "metadata": {},
   "outputs": [
    {
     "data": {
      "text/plain": [
       "0         Fully Paid\n",
       "1        Charged Off\n",
       "2         Fully Paid\n",
       "3         Fully Paid\n",
       "4            Current\n",
       "            ...     \n",
       "39712     Fully Paid\n",
       "39713     Fully Paid\n",
       "39714     Fully Paid\n",
       "39715     Fully Paid\n",
       "39716     Fully Paid\n",
       "Name: loan_status, Length: 38642, dtype: object"
      ]
     },
     "execution_count": 33,
     "metadata": {},
     "output_type": "execute_result"
    }
   ],
   "source": [
    "data_cleaned[\"loan_status\"]"
   ]
  },
  {
   "cell_type": "markdown",
   "metadata": {},
   "source": [
    "> You should be able to see that `fully paid` comprises most of the loans. \n",
    "\n",
    "> The ones marked `current` are neither fully paid not defaulted, so let's get rid of the current loans. \n",
    "\n",
    "> Hence, we will have two categories to label as 0 or 1."
   ]
  },
  {
   "cell_type": "markdown",
   "metadata": {},
   "source": [
    "- Filter for `Fully Paid` and `Charged Off` \n",
    "- Using `lambda`, let's label `Fully Paid` and `Charged Off`"
   ]
  },
  {
   "cell_type": "code",
   "execution_count": 34,
   "metadata": {},
   "outputs": [],
   "source": [
    "filtered_loan = data_cleaned.loc[(data_cleaned[\"loan_status\"]== \"Fully Paid\") | (data_cleaned[\"loan_status\"] == \"Charged Off\") ]"
   ]
  },
  {
   "cell_type": "code",
   "execution_count": 35,
   "metadata": {},
   "outputs": [
    {
     "name": "stdout",
     "output_type": "stream",
     "text": [
      "['Fully Paid' 'Charged Off']\n"
     ]
    }
   ],
   "source": [
    "# to check that dataset only contains fully paid and charged off \n",
    "print(filtered_loan[\"loan_status\"].unique())"
   ]
  },
  {
   "cell_type": "code",
   "execution_count": 36,
   "metadata": {},
   "outputs": [
    {
     "data": {
      "text/plain": [
       "0         Fully Paid\n",
       "1        Charged Off\n",
       "2         Fully Paid\n",
       "3         Fully Paid\n",
       "5         Fully Paid\n",
       "            ...     \n",
       "39712     Fully Paid\n",
       "39713     Fully Paid\n",
       "39714     Fully Paid\n",
       "39715     Fully Paid\n",
       "39716     Fully Paid\n",
       "Name: loan_status, Length: 37544, dtype: object"
      ]
     },
     "execution_count": 36,
     "metadata": {},
     "output_type": "execute_result"
    }
   ],
   "source": [
    "filtered_loan[\"loan_status\"]"
   ]
  },
  {
   "cell_type": "code",
   "execution_count": 37,
   "metadata": {},
   "outputs": [
    {
     "name": "stderr",
     "output_type": "stream",
     "text": [
      "C:\\Users\\cassi\\AppData\\Local\\Temp\\ipykernel_3300\\1282459148.py:2: SettingWithCopyWarning: \n",
      "A value is trying to be set on a copy of a slice from a DataFrame.\n",
      "Try using .loc[row_indexer,col_indexer] = value instead\n",
      "\n",
      "See the caveats in the documentation: https://pandas.pydata.org/pandas-docs/stable/user_guide/indexing.html#returning-a-view-versus-a-copy\n",
      "  filtered_loan[\"loan_status\"] = filtered_loan[\"loan_status\"].apply(lambda x: mymap.get(x) if x in mymap else x)\n"
     ]
    }
   ],
   "source": [
    "mymap = {\"Fully Paid\": 0 , \"Charged Off\" : 1}\n",
    "filtered_loan[\"loan_status\"] = filtered_loan[\"loan_status\"].apply(lambda x: mymap.get(x) if x in mymap else x)"
   ]
  },
  {
   "cell_type": "markdown",
   "metadata": {},
   "source": [
    "> Let's convert `loan_status` to **integer data type** (again, use `lambda`)."
   ]
  },
  {
   "cell_type": "code",
   "execution_count": null,
   "metadata": {},
   "outputs": [],
   "source": []
  },
  {
   "cell_type": "markdown",
   "metadata": {},
   "source": [
    "> Let's take a look at the data points under the `loan_status` category."
   ]
  },
  {
   "cell_type": "code",
   "execution_count": 38,
   "metadata": {},
   "outputs": [
    {
     "data": {
      "text/plain": [
       "0        0\n",
       "1        1\n",
       "2        0\n",
       "3        0\n",
       "5        0\n",
       "        ..\n",
       "39712    0\n",
       "39713    0\n",
       "39714    0\n",
       "39715    0\n",
       "39716    0\n",
       "Name: loan_status, Length: 37544, dtype: int64"
      ]
     },
     "execution_count": 38,
     "metadata": {},
     "output_type": "execute_result"
    }
   ],
   "source": [
    "filtered_loan[\"loan_status\"]"
   ]
  },
  {
   "cell_type": "markdown",
   "metadata": {},
   "source": [
    "### Question 4. A Simple Univariate Analysis"
   ]
  },
  {
   "cell_type": "markdown",
   "metadata": {},
   "source": [
    "> First, let's look at the overall default rate."
   ]
  },
  {
   "cell_type": "markdown",
   "metadata": {},
   "source": [
    "#### Question 4.1. How would you calculate default rate? Please use `numpy` module."
   ]
  },
  {
   "cell_type": "code",
   "execution_count": 39,
   "metadata": {},
   "outputs": [
    {
     "name": "stdout",
     "output_type": "stream",
     "text": [
      "The overall default rate is about 14 %\n"
     ]
    }
   ],
   "source": [
    "a = filtered_loan[\"loan_status\"].mean()\n",
    "print (\"The overall default rate is about \" +str(round(a*100)) + \" %\")\n",
    "# How to use the numpy module to find the default rate? or did i interpret the qn wrongly"
   ]
  },
  {
   "cell_type": "markdown",
   "metadata": {},
   "source": [
    "> The overall default rate is about `??%`.  "
   ]
  },
  {
   "cell_type": "markdown",
   "metadata": {},
   "source": [
    "> Let's visualize default rates across grade of the loan."
   ]
  },
  {
   "cell_type": "code",
   "execution_count": 40,
   "metadata": {},
   "outputs": [
    {
     "data": {
      "text/plain": [
       "0        B\n",
       "1        C\n",
       "2        C\n",
       "3        C\n",
       "5        A\n",
       "        ..\n",
       "39712    A\n",
       "39713    C\n",
       "39714    A\n",
       "39715    A\n",
       "39716    E\n",
       "Name: grade, Length: 37544, dtype: object"
      ]
     },
     "execution_count": 40,
     "metadata": {},
     "output_type": "execute_result"
    }
   ],
   "source": [
    "filtered_loan[\"grade\"]"
   ]
  },
  {
   "cell_type": "code",
   "execution_count": 41,
   "metadata": {
    "scrolled": true
   },
   "outputs": [
    {
     "data": {
      "text/plain": [
       "<AxesSubplot:xlabel='grade', ylabel='loan_status'>"
      ]
     },
     "execution_count": 41,
     "metadata": {},
     "output_type": "execute_result"
    },
    {
     "data": {
      "image/png": "[encoded data removed]",
      "text/plain": [
       "<Figure size 432x288 with 1 Axes>"
      ]
     },
     "metadata": {
      "needs_background": "light"
     },
     "output_type": "display_data"
    }
   ],
   "source": [
    "import seaborn as sns \n",
    "sns.barplot(x = \"grade\",y=\"loan_status\", data = filtered_loan)"
   ]
  },
  {
   "cell_type": "markdown",
   "metadata": {},
   "source": [
    "#### Question 4.2. Create a function to plot `loan_status` across `any categorical variable`.\n",
    "> Hint: How did you visualise in Question 4.1? Is there a way to generalise what you did for `any categorical variable`?"
   ]
  },
  {
   "cell_type": "code",
   "execution_count": 42,
   "metadata": {},
   "outputs": [],
   "source": [
    "def plot_loan_status(z):\n",
    "    return sns.barplot(x = z, y=\"loan_status\", data = filtered_loan)\n",
    "    z.apply(plot_loan_status)"
   ]
  },
  {
   "cell_type": "code",
   "execution_count": 128,
   "metadata": {},
   "outputs": [],
   "source": [
    "def default_by_group(df, group, label=\"loan_status\"):\n",
    "    return df.groupby(group)[label].mean()\n"
   ]
  },
  {
   "cell_type": "markdown",
   "metadata": {},
   "source": [
    "#### How's default rates across `grade` of loan? Use your newly created function :)"
   ]
  },
  {
   "cell_type": "code",
   "execution_count": 129,
   "metadata": {},
   "outputs": [
    {
     "data": {
      "text/plain": [
       "grade\n",
       "A    0.057764\n",
       "B    0.119289\n",
       "C    0.167949\n",
       "D    0.217915\n",
       "E    0.267176\n",
       "F    0.326382\n",
       "G    0.335570\n",
       "Name: loan_status, dtype: float64"
      ]
     },
     "execution_count": 129,
     "metadata": {},
     "output_type": "execute_result"
    }
   ],
   "source": [
    "default_by_group(filtered_loan,\"grade\")"
   ]
  },
  {
   "cell_type": "code",
   "execution_count": 43,
   "metadata": {},
   "outputs": [
    {
     "data": {
      "text/plain": [
       "<AxesSubplot:xlabel='grade', ylabel='loan_status'>"
      ]
     },
     "execution_count": 43,
     "metadata": {},
     "output_type": "execute_result"
    },
    {
     "data": {
      "image/png": "[encoded data removed]",
      "text/plain": [
       "<Figure size 432x288 with 1 Axes>"
      ]
     },
     "metadata": {
      "needs_background": "light"
     },
     "output_type": "display_data"
    }
   ],
   "source": [
    "plot_loan_status(\"grade\")"
   ]
  },
  {
   "cell_type": "markdown",
   "metadata": {},
   "source": [
    "> What is your `interpretation`? **`Double Click` and type in your interpretation here**\n",
    "\n",
    "\n",
    "As the grade goes from A to G, the probability of default increases"
   ]
  },
  {
   "cell_type": "markdown",
   "metadata": {},
   "source": [
    "#### `term`"
   ]
  },
  {
   "cell_type": "code",
   "execution_count": 44,
   "metadata": {},
   "outputs": [
    {
     "data": {
      "text/plain": [
       "<AxesSubplot:xlabel='term', ylabel='loan_status'>"
      ]
     },
     "execution_count": 44,
     "metadata": {},
     "output_type": "execute_result"
    },
    {
     "data": {
      "image/png": "[encoded data removed]",
      "text/plain": [
       "<Figure size 432x288 with 1 Axes>"
      ]
     },
     "metadata": {
      "needs_background": "light"
     },
     "output_type": "display_data"
    }
   ],
   "source": [
    "plot_loan_status(\"term\")"
   ]
  },
  {
   "cell_type": "markdown",
   "metadata": {},
   "source": [
    "> What is your `interpretation`? **`Double Click` and type in your interpretation here**"
   ]
  },
  {
   "cell_type": "markdown",
   "metadata": {},
   "source": [
    "#### `home_ownership`"
   ]
  },
  {
   "cell_type": "code",
   "execution_count": 45,
   "metadata": {},
   "outputs": [
    {
     "data": {
      "text/plain": [
       "<AxesSubplot:xlabel='home_ownership', ylabel='loan_status'>"
      ]
     },
     "execution_count": 45,
     "metadata": {},
     "output_type": "execute_result"
    },
    {
     "data": {
      "image/png": "[encoded data removed]",
      "text/plain": [
       "<Figure size 432x288 with 1 Axes>"
      ]
     },
     "metadata": {
      "needs_background": "light"
     },
     "output_type": "display_data"
    }
   ],
   "source": [
    "plot_loan_status(\"home_ownership\")"
   ]
  },
  {
   "cell_type": "markdown",
   "metadata": {},
   "source": [
    "> What is your `interpretation`? **`Double Click` and type in your interpretation here**\n",
    "\n",
    "Home Ownership does not have any impact on loan_status"
   ]
  },
  {
   "cell_type": "markdown",
   "metadata": {},
   "source": [
    "#### The role of `verification_status`?"
   ]
  },
  {
   "cell_type": "code",
   "execution_count": 46,
   "metadata": {},
   "outputs": [
    {
     "data": {
      "text/plain": [
       "<AxesSubplot:xlabel='verification_status', ylabel='loan_status'>"
      ]
     },
     "execution_count": 46,
     "metadata": {},
     "output_type": "execute_result"
    },
    {
     "data": {
      "image/png": "[encoded data removed]",
      "text/plain": [
       "<Figure size 432x288 with 1 Axes>"
      ]
     },
     "metadata": {
      "needs_background": "light"
     },
     "output_type": "display_data"
    }
   ],
   "source": [
    "plot_loan_status(\"verification_status\")"
   ]
  },
  {
   "cell_type": "markdown",
   "metadata": {},
   "source": [
    "> What is your `interpretation`? **`Double Click` and type in your interpretation here**"
   ]
  },
  {
   "cell_type": "markdown",
   "metadata": {},
   "source": [
    "#### The role of Loan `purpose`?"
   ]
  },
  {
   "cell_type": "code",
   "execution_count": 47,
   "metadata": {},
   "outputs": [
    {
     "data": {
      "text/plain": [
       "0               credit_card\n",
       "1                       car\n",
       "2            small_business\n",
       "3                     other\n",
       "5                   wedding\n",
       "                ...        \n",
       "39712      home_improvement\n",
       "39713           credit_card\n",
       "39714    debt_consolidation\n",
       "39715                 other\n",
       "39716    debt_consolidation\n",
       "Name: purpose, Length: 37544, dtype: object"
      ]
     },
     "execution_count": 47,
     "metadata": {},
     "output_type": "execute_result"
    }
   ],
   "source": [
    "filtered_loan['purpose']"
   ]
  },
  {
   "cell_type": "code",
   "execution_count": 48,
   "metadata": {},
   "outputs": [
    {
     "data": {
      "text/plain": [
       "(array([ 0,  1,  2,  3,  4,  5,  6,  7,  8,  9, 10, 11, 12, 13]),\n",
       " [Text(0, 0, 'credit_card'),\n",
       "  Text(1, 0, 'car'),\n",
       "  Text(2, 0, 'small_business'),\n",
       "  Text(3, 0, 'other'),\n",
       "  Text(4, 0, 'wedding'),\n",
       "  Text(5, 0, 'debt_consolidation'),\n",
       "  Text(6, 0, 'home_improvement'),\n",
       "  Text(7, 0, 'major_purchase'),\n",
       "  Text(8, 0, 'medical'),\n",
       "  Text(9, 0, 'moving'),\n",
       "  Text(10, 0, 'vacation'),\n",
       "  Text(11, 0, 'house'),\n",
       "  Text(12, 0, 'renewable_energy'),\n",
       "  Text(13, 0, 'educational')])"
      ]
     },
     "execution_count": 48,
     "metadata": {},
     "output_type": "execute_result"
    },
    {
     "data": {
      "image/png": "[encoded data removed]",
      "text/plain": [
       "<Figure size 432x288 with 1 Axes>"
      ]
     },
     "metadata": {
      "needs_background": "light"
     },
     "output_type": "display_data"
    }
   ],
   "source": [
    "plot_loan_status(\"purpose\")\n",
    "plt.xticks(rotation=90, ha='left')\n",
    "# how to fit all the parameters into the graph?"
   ]
  },
  {
   "cell_type": "markdown",
   "metadata": {},
   "source": [
    "> What is your `interpretation`? **`Double Click` and type in your interpretation here**"
   ]
  },
  {
   "cell_type": "markdown",
   "metadata": {},
   "source": [
    "#### Question 4.3. How is the distribution of loans across time?\n",
    "\n",
    "> Please convert the column `issue_d` into datetime and then extract year and month from it."
   ]
  },
  {
   "cell_type": "code",
   "execution_count": 49,
   "metadata": {},
   "outputs": [
    {
     "name": "stderr",
     "output_type": "stream",
     "text": [
      "C:\\Users\\cassi\\AppData\\Local\\Temp\\ipykernel_3300\\3609658535.py:2: SettingWithCopyWarning: \n",
      "A value is trying to be set on a copy of a slice from a DataFrame.\n",
      "Try using .loc[row_indexer,col_indexer] = value instead\n",
      "\n",
      "See the caveats in the documentation: https://pandas.pydata.org/pandas-docs/stable/user_guide/indexing.html#returning-a-view-versus-a-copy\n",
      "  filtered_loan[\"issue_d\"] = pd.to_datetime(filtered_loan[\"issue_d\"].str.upper(), format='%b-%y', yearfirst=False)\n"
     ]
    }
   ],
   "source": [
    "import datetime as dt \n",
    "filtered_loan[\"issue_d\"] = pd.to_datetime(filtered_loan[\"issue_d\"].str.upper(), format='%b-%y', yearfirst=False)"
   ]
  },
  {
   "cell_type": "code",
   "execution_count": 50,
   "metadata": {},
   "outputs": [
    {
     "data": {
      "text/plain": [
       "0        2011\n",
       "1        2011\n",
       "2        2011\n",
       "3        2011\n",
       "5        2011\n",
       "         ... \n",
       "39712    2007\n",
       "39713    2007\n",
       "39714    2007\n",
       "39715    2007\n",
       "39716    2007\n",
       "Name: issue_d, Length: 37544, dtype: int64"
      ]
     },
     "execution_count": 50,
     "metadata": {},
     "output_type": "execute_result"
    }
   ],
   "source": [
    "filtered_loan[\"issue_d\"].dt.year"
   ]
  },
  {
   "cell_type": "code",
   "execution_count": 51,
   "metadata": {},
   "outputs": [
    {
     "data": {
      "text/plain": [
       "0        12\n",
       "1        12\n",
       "2        12\n",
       "3        12\n",
       "5        12\n",
       "         ..\n",
       "39712     7\n",
       "39713     7\n",
       "39714     7\n",
       "39715     7\n",
       "39716     6\n",
       "Name: issue_d, Length: 37544, dtype: int64"
      ]
     },
     "execution_count": 51,
     "metadata": {},
     "output_type": "execute_result"
    }
   ],
   "source": [
    "filtered_loan[\"issue_d\"].dt.month"
   ]
  },
  {
   "cell_type": "markdown",
   "metadata": {},
   "source": [
    "> Yes, please use `lambda`."
   ]
  },
  {
   "cell_type": "code",
   "execution_count": 52,
   "metadata": {},
   "outputs": [
    {
     "name": "stderr",
     "output_type": "stream",
     "text": [
      "C:\\Users\\cassi\\AppData\\Local\\Temp\\ipykernel_3300\\694610127.py:5: SettingWithCopyWarning: \n",
      "A value is trying to be set on a copy of a slice from a DataFrame.\n",
      "Try using .loc[row_indexer,col_indexer] = value instead\n",
      "\n",
      "See the caveats in the documentation: https://pandas.pydata.org/pandas-docs/stable/user_guide/indexing.html#returning-a-view-versus-a-copy\n",
      "  filtered_loan[\"year\"] = filtered_loan[\"issue_d\"].apply(lambda row: row.year)\n"
     ]
    }
   ],
   "source": [
    "row = filtered_loan[\"issue_d\"][0]\n",
    "\n",
    "lambda row: row.year\n",
    "\n",
    "filtered_loan[\"year\"] = filtered_loan[\"issue_d\"].apply(lambda row: row.year)"
   ]
  },
  {
   "cell_type": "markdown",
   "metadata": {},
   "source": [
    "> Please extract month and year from `issue_d`, using `lambda`."
   ]
  },
  {
   "cell_type": "code",
   "execution_count": 53,
   "metadata": {},
   "outputs": [
    {
     "name": "stderr",
     "output_type": "stream",
     "text": [
      "C:\\Users\\cassi\\AppData\\Local\\Temp\\ipykernel_3300\\4184323350.py:5: SettingWithCopyWarning: \n",
      "A value is trying to be set on a copy of a slice from a DataFrame.\n",
      "Try using .loc[row_indexer,col_indexer] = value instead\n",
      "\n",
      "See the caveats in the documentation: https://pandas.pydata.org/pandas-docs/stable/user_guide/indexing.html#returning-a-view-versus-a-copy\n",
      "  filtered_loan[\"month\"] = filtered_loan[\"issue_d\"].apply(lambda row: row.month)\n"
     ]
    }
   ],
   "source": [
    "row = filtered_loan[\"issue_d\"][0]\n",
    "\n",
    "lambda row: row.month\n",
    "\n",
    "filtered_loan[\"month\"] = filtered_loan[\"issue_d\"].apply(lambda row: row.month)"
   ]
  },
  {
   "cell_type": "markdown",
   "metadata": {},
   "source": [
    "> How would you examine the number of loans granted across `years`?"
   ]
  },
  {
   "cell_type": "code",
   "execution_count": 54,
   "metadata": {},
   "outputs": [
    {
     "data": {
      "text/plain": [
       "2011    19801\n",
       "2010    11214\n",
       "2009     4716\n",
       "2008     1562\n",
       "2007      251\n",
       "Name: year, dtype: int64"
      ]
     },
     "execution_count": 54,
     "metadata": {},
     "output_type": "execute_result"
    }
   ],
   "source": [
    "filtered_loan[\"year\"].value_counts()"
   ]
  },
  {
   "cell_type": "code",
   "execution_count": 55,
   "metadata": {},
   "outputs": [
    {
     "data": {
      "text/plain": [
       "<AxesSubplot:>"
      ]
     },
     "execution_count": 55,
     "metadata": {},
     "output_type": "execute_result"
    },
    {
     "data": {
      "image/png": "[encoded data removed]",
      "text/plain": [
       "<Figure size 432x288 with 1 Axes>"
      ]
     },
     "metadata": {
      "needs_background": "light"
     },
     "output_type": "display_data"
    }
   ],
   "source": [
    "filtered_loan.year.value_counts().sort_index(ascending=False).plot(kind='bar')"
   ]
  },
  {
   "cell_type": "markdown",
   "metadata": {},
   "source": [
    "You can see that the number of loans has increased steadily across years. "
   ]
  },
  {
   "cell_type": "markdown",
   "metadata": {},
   "source": [
    "> How would you examine the number of loans across months?"
   ]
  },
  {
   "cell_type": "code",
   "execution_count": 56,
   "metadata": {},
   "outputs": [
    {
     "data": {
      "text/plain": [
       "<AxesSubplot:>"
      ]
     },
     "execution_count": 56,
     "metadata": {},
     "output_type": "execute_result"
    },
    {
     "data": {
      "image/png": "[encoded data removed]",
      "text/plain": [
       "<Figure size 432x288 with 1 Axes>"
      ]
     },
     "metadata": {
      "needs_background": "light"
     },
     "output_type": "display_data"
    }
   ],
   "source": [
    "filtered_loan.month.value_counts().sort_index(ascending=False).plot(kind='bar')"
   ]
  },
  {
   "cell_type": "markdown",
   "metadata": {},
   "source": [
    "`Interpretation`?"
   ]
  },
  {
   "cell_type": "markdown",
   "metadata": {},
   "source": [
    "#### Compare the default rates across years."
   ]
  },
  {
   "cell_type": "code",
   "execution_count": 57,
   "metadata": {},
   "outputs": [
    {
     "data": {
      "text/plain": [
       "<AxesSubplot:xlabel='year', ylabel='loan_status'>"
      ]
     },
     "execution_count": 57,
     "metadata": {},
     "output_type": "execute_result"
    },
    {
     "data": {
      "image/png": "[encoded data removed]",
      "text/plain": [
       "<Figure size 432x288 with 1 Axes>"
      ]
     },
     "metadata": {
      "needs_background": "light"
     },
     "output_type": "display_data"
    }
   ],
   "source": [
    "plot_loan_status(\"year\")"
   ]
  },
  {
   "cell_type": "markdown",
   "metadata": {},
   "source": [
    "> `Interpretation`?"
   ]
  },
  {
   "cell_type": "markdown",
   "metadata": {},
   "source": [
    "#### Let's compare default rates across months."
   ]
  },
  {
   "cell_type": "code",
   "execution_count": 58,
   "metadata": {},
   "outputs": [
    {
     "data": {
      "text/plain": [
       "<AxesSubplot:xlabel='month', ylabel='loan_status'>"
      ]
     },
     "execution_count": 58,
     "metadata": {},
     "output_type": "execute_result"
    },
    {
     "data": {
      "image/png": "[encoded data removed]",
      "text/plain": [
       "<Figure size 432x288 with 1 Axes>"
      ]
     },
     "metadata": {
      "needs_background": "light"
     },
     "output_type": "display_data"
    }
   ],
   "source": [
    "plot_loan_status(\"month\")"
   ]
  },
  {
   "cell_type": "markdown",
   "metadata": {},
   "source": [
    "> `Interpretation`? "
   ]
  },
  {
   "cell_type": "markdown",
   "metadata": {},
   "source": [
    "#### Question 4.4. Let's now analyse how the default rate varies across continuous variables."
   ]
  },
  {
   "cell_type": "markdown",
   "metadata": {},
   "source": [
    "> Loan Amount: `loan_amnt`"
   ]
  },
  {
   "cell_type": "code",
   "execution_count": 59,
   "metadata": {},
   "outputs": [
    {
     "data": {
      "text/plain": [
       "<AxesSubplot:xlabel='loan_amnt', ylabel='loan_status'>"
      ]
     },
     "execution_count": 59,
     "metadata": {},
     "output_type": "execute_result"
    },
    {
     "data": {
      "image/png": "[encoded data removed]",
      "text/plain": [
       "<Figure size 432x288 with 1 Axes>"
      ]
     },
     "metadata": {
      "needs_background": "light"
     },
     "output_type": "display_data"
    }
   ],
   "source": [
    "plot_loan_status(\"loan_amnt\")"
   ]
  },
  {
   "cell_type": "markdown",
   "metadata": {},
   "source": [
    "> `Interpretation`?"
   ]
  },
  {
   "cell_type": "markdown",
   "metadata": {},
   "source": [
    "> Another way to analyse how default rates vary across continous variables is to bin the variables into discrete categories.\n",
    "\n",
    "> Let's create a categorical variable for the loan amount variable into small, medium, high, very high."
   ]
  },
  {
   "cell_type": "markdown",
   "metadata": {},
   "source": [
    "* loan_amount < 5000 `low`\n",
    "* loan_amount >=5000 and loan_amount < 15000 `medium`\n",
    "* loan_amount >= 15000 and loan_amount < 25000 `high`\n",
    "* greater than 25000 `very high`"
   ]
  },
  {
   "cell_type": "code",
   "execution_count": 60,
   "metadata": {
    "scrolled": true
   },
   "outputs": [
    {
     "data": {
      "text/plain": [
       "0         5000\n",
       "1         2500\n",
       "2         2400\n",
       "3        10000\n",
       "5         5000\n",
       "         ...  \n",
       "39712     2500\n",
       "39713     8500\n",
       "39714     5000\n",
       "39715     5000\n",
       "39716     7500\n",
       "Name: loan_amnt, Length: 37544, dtype: int64"
      ]
     },
     "execution_count": 60,
     "metadata": {},
     "output_type": "execute_result"
    }
   ],
   "source": [
    "filtered_loan[\"loan_amnt\"]"
   ]
  },
  {
   "cell_type": "code",
   "execution_count": 61,
   "metadata": {},
   "outputs": [
    {
     "name": "stderr",
     "output_type": "stream",
     "text": [
      "C:\\Users\\cassi\\AppData\\Local\\Temp\\ipykernel_3300\\1469214823.py:10: SettingWithCopyWarning: \n",
      "A value is trying to be set on a copy of a slice from a DataFrame.\n",
      "Try using .loc[row_indexer,col_indexer] = value instead\n",
      "\n",
      "See the caveats in the documentation: https://pandas.pydata.org/pandas-docs/stable/user_guide/indexing.html#returning-a-view-versus-a-copy\n",
      "  filtered_loan[\"loan_amnt_class\"] = filtered_loan[\"loan_amnt\"].apply(categorize_loan)\n"
     ]
    }
   ],
   "source": [
    "def categorize_loan(row):\n",
    "    if row < 5000:\n",
    "        return \"low\"\n",
    "    elif row <15000:\n",
    "        return \"medium\"\n",
    "    elif row < 25000:\n",
    "        return \"high\"\n",
    "    else:\n",
    "        return \"very high\"\n",
    "filtered_loan[\"loan_amnt_class\"] = filtered_loan[\"loan_amnt\"].apply(categorize_loan)"
   ]
  },
  {
   "cell_type": "markdown",
   "metadata": {},
   "source": [
    "> Let's compare the default rates across loan amount type"
   ]
  },
  {
   "cell_type": "code",
   "execution_count": 62,
   "metadata": {},
   "outputs": [
    {
     "data": {
      "text/plain": [
       "<AxesSubplot:xlabel='loan_amnt_class', ylabel='loan_status'>"
      ]
     },
     "execution_count": 62,
     "metadata": {},
     "output_type": "execute_result"
    },
    {
     "data": {
      "image/png": "[encoded data removed]",
      "text/plain": [
       "<Figure size 432x288 with 1 Axes>"
      ]
     },
     "metadata": {
      "needs_background": "light"
     },
     "output_type": "display_data"
    }
   ],
   "source": [
    "plot_loan_status(\"loan_amnt_class\")"
   ]
  },
  {
   "cell_type": "markdown",
   "metadata": {},
   "source": [
    "> `Interpretation`?"
   ]
  },
  {
   "cell_type": "markdown",
   "metadata": {},
   "source": [
    "#### Let's also convert funded amount invested to bins (using the same scheme from `loan_amount`)"
   ]
  },
  {
   "cell_type": "code",
   "execution_count": 63,
   "metadata": {},
   "outputs": [
    {
     "name": "stderr",
     "output_type": "stream",
     "text": [
      "C:\\Users\\cassi\\AppData\\Local\\Temp\\ipykernel_3300\\4287358315.py:10: SettingWithCopyWarning: \n",
      "A value is trying to be set on a copy of a slice from a DataFrame.\n",
      "Try using .loc[row_indexer,col_indexer] = value instead\n",
      "\n",
      "See the caveats in the documentation: https://pandas.pydata.org/pandas-docs/stable/user_guide/indexing.html#returning-a-view-versus-a-copy\n",
      "  filtered_loan[\"funded_amnt_class\"] = filtered_loan[\"funded_amnt\"].apply(categorize_fund_loan)\n"
     ]
    }
   ],
   "source": [
    "def categorize_fund_loan(row):\n",
    "    if row < 5000:\n",
    "        return \"low\"\n",
    "    elif row <15000:\n",
    "        return \"medium\"\n",
    "    elif row < 25000:\n",
    "        return \"high\"\n",
    "    else:\n",
    "        return \"very high\"\n",
    "filtered_loan[\"funded_amnt_class\"] = filtered_loan[\"funded_amnt\"].apply(categorize_fund_loan)"
   ]
  },
  {
   "cell_type": "markdown",
   "metadata": {},
   "source": [
    "> Visualize the results"
   ]
  },
  {
   "cell_type": "code",
   "execution_count": 64,
   "metadata": {
    "scrolled": true
   },
   "outputs": [
    {
     "data": {
      "text/plain": [
       "<AxesSubplot:xlabel='funded_amnt_class', ylabel='loan_status'>"
      ]
     },
     "execution_count": 64,
     "metadata": {},
     "output_type": "execute_result"
    },
    {
     "data": {
      "image/png": "[encoded data removed]",
      "text/plain": [
       "<Figure size 432x288 with 1 Axes>"
      ]
     },
     "metadata": {
      "needs_background": "light"
     },
     "output_type": "display_data"
    }
   ],
   "source": [
    "plot_loan_status(\"funded_amnt_class\") # data is wrong"
   ]
  },
  {
   "cell_type": "markdown",
   "metadata": {},
   "source": [
    "#### Interest Rate (int_rate)"
   ]
  },
  {
   "cell_type": "markdown",
   "metadata": {},
   "source": [
    "> Use the following definitions for each categories.\n",
    "\n",
    "* <= 10 `low`\n",
    "* dti > 10 and dti <=15 `medium`\n",
    "* greater than 15 `high`\n",
    "\n",
    "> Use lambda for creating a new categorical variable."
   ]
  },
  {
   "cell_type": "code",
   "execution_count": 65,
   "metadata": {},
   "outputs": [],
   "source": [
    "func_int_rate = lambda x:(\"low\" if x <= 10 else(\"medium\" if x <= 15 else \"high\"))"
   ]
  },
  {
   "cell_type": "markdown",
   "metadata": {},
   "source": [
    "> Let's compare default rates across rates of interest"
   ]
  },
  {
   "cell_type": "code",
   "execution_count": 66,
   "metadata": {
    "scrolled": true
   },
   "outputs": [
    {
     "name": "stderr",
     "output_type": "stream",
     "text": [
      "C:\\Users\\cassi\\AppData\\Local\\Temp\\ipykernel_3300\\1104339644.py:1: SettingWithCopyWarning: \n",
      "A value is trying to be set on a copy of a slice from a DataFrame.\n",
      "Try using .loc[row_indexer,col_indexer] = value instead\n",
      "\n",
      "See the caveats in the documentation: https://pandas.pydata.org/pandas-docs/stable/user_guide/indexing.html#returning-a-view-versus-a-copy\n",
      "  filtered_loan[\"int_rate_class\"] = filtered_loan[\"int_rate\"].apply(func_int_rate)\n"
     ]
    }
   ],
   "source": [
    "filtered_loan[\"int_rate_class\"] = filtered_loan[\"int_rate\"].apply(func_int_rate)"
   ]
  },
  {
   "cell_type": "code",
   "execution_count": 67,
   "metadata": {
    "scrolled": true
   },
   "outputs": [
    {
     "data": {
      "text/plain": [
       "<AxesSubplot:xlabel='int_rate_class', ylabel='loan_status'>"
      ]
     },
     "execution_count": 67,
     "metadata": {},
     "output_type": "execute_result"
    },
    {
     "data": {
      "image/png": "[encoded data removed]",
      "text/plain": [
       "<Figure size 432x288 with 1 Axes>"
      ]
     },
     "metadata": {
      "needs_background": "light"
     },
     "output_type": "display_data"
    }
   ],
   "source": [
    "plot_loan_status(\"int_rate_class\")"
   ]
  },
  {
   "cell_type": "markdown",
   "metadata": {},
   "source": [
    "> `Interpretaion`?"
   ]
  },
  {
   "cell_type": "markdown",
   "metadata": {},
   "source": [
    "#### debt-to-income (`dti`) ratio"
   ]
  },
  {
   "cell_type": "markdown",
   "metadata": {},
   "source": [
    "> Please create a categorical variable of `dti` using your own function\n",
    "\n",
    "> Use the following definitions for each categories.\n",
    "\n",
    "* <= 10 `low`\n",
    "* dti > 10 and dti <=20 `medium`\n",
    "* greater than 20 `high`\n",
    "\n",
    "> Use lambda for creating a new variable."
   ]
  },
  {
   "cell_type": "code",
   "execution_count": 68,
   "metadata": {},
   "outputs": [],
   "source": [
    "func_dti_rate = lambda x:(\"low\" if x <= 10 else(\"medium\" if x <= 20  else \"high\"))"
   ]
  },
  {
   "cell_type": "markdown",
   "metadata": {},
   "source": [
    "> Let's comparing default rates across debt to income ratio"
   ]
  },
  {
   "cell_type": "code",
   "execution_count": 69,
   "metadata": {},
   "outputs": [
    {
     "name": "stderr",
     "output_type": "stream",
     "text": [
      "C:\\Users\\cassi\\AppData\\Local\\Temp\\ipykernel_3300\\1382406142.py:1: SettingWithCopyWarning: \n",
      "A value is trying to be set on a copy of a slice from a DataFrame.\n",
      "Try using .loc[row_indexer,col_indexer] = value instead\n",
      "\n",
      "See the caveats in the documentation: https://pandas.pydata.org/pandas-docs/stable/user_guide/indexing.html#returning-a-view-versus-a-copy\n",
      "  filtered_loan[\"dti_rate_class\"] = filtered_loan[\"dti\"].apply(func_int_rate)\n"
     ]
    }
   ],
   "source": [
    "filtered_loan[\"dti_rate_class\"] = filtered_loan[\"dti\"].apply(func_int_rate)"
   ]
  },
  {
   "cell_type": "code",
   "execution_count": 70,
   "metadata": {},
   "outputs": [
    {
     "data": {
      "text/plain": [
       "<AxesSubplot:xlabel='dti_rate_class', ylabel='loan_status'>"
      ]
     },
     "execution_count": 70,
     "metadata": {},
     "output_type": "execute_result"
    },
    {
     "data": {
      "image/png": "[encoded data removed]",
      "text/plain": [
       "<Figure size 432x288 with 1 Axes>"
      ]
     },
     "metadata": {
      "needs_background": "light"
     },
     "output_type": "display_data"
    }
   ],
   "source": [
    "plot_loan_status(\"dti_rate_class\")"
   ]
  },
  {
   "cell_type": "markdown",
   "metadata": {},
   "source": [
    "> `Interpretation`?"
   ]
  },
  {
   "cell_type": "markdown",
   "metadata": {},
   "source": [
    "#### `funded_amount`"
   ]
  },
  {
   "cell_type": "markdown",
   "metadata": {},
   "source": [
    "> Please create a categorical variable of `funded_amount` using your own function\n",
    "\n",
    "> Use the following definitions for each categories.\n",
    "\n",
    "- <= 5000 `low`\n",
    "- funded_amount > 5000 and funded_amount <=15000 `medium`\n",
    "- greater than 15000 `high`\n",
    "\n",
    "> Use lambda for creating a new variable."
   ]
  },
  {
   "cell_type": "code",
   "execution_count": 71,
   "metadata": {},
   "outputs": [],
   "source": [
    "func_fund_rate = lambda x:(\"low\" if x <= 5000 else(\"medium\" if x <= 15000 else \"high\"))"
   ]
  },
  {
   "cell_type": "markdown",
   "metadata": {},
   "source": [
    "#### `installment`"
   ]
  },
  {
   "cell_type": "code",
   "execution_count": 72,
   "metadata": {},
   "outputs": [
    {
     "name": "stderr",
     "output_type": "stream",
     "text": [
      "C:\\Users\\cassi\\AppData\\Local\\Temp\\ipykernel_3300\\2280525395.py:1: SettingWithCopyWarning: \n",
      "A value is trying to be set on a copy of a slice from a DataFrame.\n",
      "Try using .loc[row_indexer,col_indexer] = value instead\n",
      "\n",
      "See the caveats in the documentation: https://pandas.pydata.org/pandas-docs/stable/user_guide/indexing.html#returning-a-view-versus-a-copy\n",
      "  filtered_loan[\"fund_rate_class\"] = filtered_loan[\"funded_amnt\"].apply(func_fund_rate)\n"
     ]
    }
   ],
   "source": [
    "filtered_loan[\"fund_rate_class\"] = filtered_loan[\"funded_amnt\"].apply(func_fund_rate)"
   ]
  },
  {
   "cell_type": "code",
   "execution_count": 73,
   "metadata": {},
   "outputs": [
    {
     "data": {
      "text/plain": [
       "<AxesSubplot:xlabel='fund_rate_class', ylabel='loan_status'>"
      ]
     },
     "execution_count": 73,
     "metadata": {},
     "output_type": "execute_result"
    },
    {
     "data": {
      "image/png": "[encoded data removed]",
      "text/plain": [
       "<Figure size 432x288 with 1 Axes>"
      ]
     },
     "metadata": {
      "needs_background": "light"
     },
     "output_type": "display_data"
    }
   ],
   "source": [
    "plot_loan_status(\"fund_rate_class\")"
   ]
  },
  {
   "cell_type": "markdown",
   "metadata": {},
   "source": [
    "> Please create a categorical variable of `installment` using your own function\n",
    "\n",
    "> Use the following definitions for each categories.\n",
    "\n",
    "- installment <= 200 `low`\n",
    "- installment > 200 and installment <= 400 `medium`\n",
    "- installment > 400 and installment <= 600 `high`\n",
    "- greater than 600 = `very high`\n",
    "\n",
    "> Use lambda for creating a new variable."
   ]
  },
  {
   "cell_type": "code",
   "execution_count": 74,
   "metadata": {},
   "outputs": [],
   "source": [
    "func_instal_rate = lambda x:(\"low\" if x <= 200 else(\"medium\" if x <= 400 else(\"high\" if x <= 600 else \"very high\")))"
   ]
  },
  {
   "cell_type": "markdown",
   "metadata": {},
   "source": [
    "> Let's compare default rates across installment"
   ]
  },
  {
   "cell_type": "code",
   "execution_count": 75,
   "metadata": {},
   "outputs": [
    {
     "name": "stderr",
     "output_type": "stream",
     "text": [
      "C:\\Users\\cassi\\AppData\\Local\\Temp\\ipykernel_3300\\3330767820.py:1: SettingWithCopyWarning: \n",
      "A value is trying to be set on a copy of a slice from a DataFrame.\n",
      "Try using .loc[row_indexer,col_indexer] = value instead\n",
      "\n",
      "See the caveats in the documentation: https://pandas.pydata.org/pandas-docs/stable/user_guide/indexing.html#returning-a-view-versus-a-copy\n",
      "  filtered_loan[\"installment_class\"] = filtered_loan[\"installment\"].apply(func_instal_rate)\n"
     ]
    }
   ],
   "source": [
    "filtered_loan[\"installment_class\"] = filtered_loan[\"installment\"].apply(func_instal_rate)"
   ]
  },
  {
   "cell_type": "code",
   "execution_count": 76,
   "metadata": {},
   "outputs": [
    {
     "data": {
      "text/plain": [
       "<AxesSubplot:xlabel='installment_class', ylabel='loan_status'>"
      ]
     },
     "execution_count": 76,
     "metadata": {},
     "output_type": "execute_result"
    },
    {
     "data": {
      "image/png": "[encoded data removed]",
      "text/plain": [
       "<Figure size 432x288 with 1 Axes>"
      ]
     },
     "metadata": {
      "needs_background": "light"
     },
     "output_type": "display_data"
    }
   ],
   "source": [
    "plot_loan_status(\"installment_class\")"
   ]
  },
  {
   "cell_type": "markdown",
   "metadata": {},
   "source": [
    "> `Interpretation`?"
   ]
  },
  {
   "cell_type": "markdown",
   "metadata": {},
   "source": [
    "#### How about `annual_income`? \n",
    "\n",
    "> Please create a categorical variable of annual_income using your own function\n",
    "\n",
    "> Use the following definitions for each categories.\n",
    "\n",
    "- less than or equal to 50k = `low`\n",
    "- greater than 50k less than equal to 100 k = `medium`\n",
    "- greater than 100k less than equal to 150k = `high`\n",
    "- greater than 150k = `very high`\n",
    "\n",
    "> Use lambda for creating a new variable."
   ]
  },
  {
   "cell_type": "code",
   "execution_count": 77,
   "metadata": {},
   "outputs": [],
   "source": [
    "func_annual_income = lambda x:(\"low\" if x <= 50000 else(\"medium\" if x <= 100000 else(\"high\" if x <= 150000 else \"very high\")))"
   ]
  },
  {
   "cell_type": "markdown",
   "metadata": {},
   "source": [
    "> Visualize the results."
   ]
  },
  {
   "cell_type": "code",
   "execution_count": 78,
   "metadata": {},
   "outputs": [
    {
     "name": "stderr",
     "output_type": "stream",
     "text": [
      "C:\\Users\\cassi\\AppData\\Local\\Temp\\ipykernel_3300\\2544648588.py:1: SettingWithCopyWarning: \n",
      "A value is trying to be set on a copy of a slice from a DataFrame.\n",
      "Try using .loc[row_indexer,col_indexer] = value instead\n",
      "\n",
      "See the caveats in the documentation: https://pandas.pydata.org/pandas-docs/stable/user_guide/indexing.html#returning-a-view-versus-a-copy\n",
      "  filtered_loan[\"annual_income_class\"] = filtered_loan[\"annual_inc\"].apply(func_annual_income)\n"
     ]
    }
   ],
   "source": [
    "filtered_loan[\"annual_income_class\"] = filtered_loan[\"annual_inc\"].apply(func_annual_income)"
   ]
  },
  {
   "cell_type": "code",
   "execution_count": 79,
   "metadata": {},
   "outputs": [
    {
     "data": {
      "text/plain": [
       "<AxesSubplot:xlabel='annual_income_class', ylabel='loan_status'>"
      ]
     },
     "execution_count": 79,
     "metadata": {},
     "output_type": "execute_result"
    },
    {
     "data": {
      "image/png": "[encoded data removed]",
      "text/plain": [
       "<Figure size 432x288 with 1 Axes>"
      ]
     },
     "metadata": {
      "needs_background": "light"
     },
     "output_type": "display_data"
    }
   ],
   "source": [
    "plot_loan_status(\"annual_income_class\")"
   ]
  },
  {
   "cell_type": "markdown",
   "metadata": {},
   "source": [
    "> What's your interpretation?"
   ]
  },
  {
   "cell_type": "markdown",
   "metadata": {},
   "source": [
    "#### `Employment Length`"
   ]
  },
  {
   "cell_type": "markdown",
   "metadata": {},
   "source": [
    "> First, let's drop the missing value observations in `emp_length`"
   ]
  },
  {
   "cell_type": "code",
   "execution_count": 80,
   "metadata": {},
   "outputs": [
    {
     "data": {
      "text/plain": [
       "False"
      ]
     },
     "execution_count": 80,
     "metadata": {},
     "output_type": "execute_result"
    }
   ],
   "source": [
    "filtered_loan[\"emp_length\"].isna().any()"
   ]
  },
  {
   "cell_type": "markdown",
   "metadata": {},
   "source": [
    "> Please create a categorical variable of `emp_length` using your own function\n",
    "\n",
    "> Use the following definitions for each categories.\n",
    "\n",
    "* emp_length <= 1 `fresher`\n",
    "* emp_length > 1 and emp_length <=3 `junior`\n",
    "* emp_length > 3 and emp_length <=7 `senior`\n",
    "* greater than 7 `expert`\n",
    "\n",
    "> Use lambda for creating a new variable."
   ]
  },
  {
   "cell_type": "code",
   "execution_count": 81,
   "metadata": {},
   "outputs": [],
   "source": [
    "func_emp_length = lambda x:(\"fresher\" if x <= 1 else(\"junior\" if x <= 3 else(\"senior\" if x <= 7 else \"expert\")))"
   ]
  },
  {
   "cell_type": "markdown",
   "metadata": {},
   "source": [
    "> Visualize the results"
   ]
  },
  {
   "cell_type": "code",
   "execution_count": 82,
   "metadata": {},
   "outputs": [
    {
     "name": "stderr",
     "output_type": "stream",
     "text": [
      "C:\\Users\\cassi\\AppData\\Local\\Temp\\ipykernel_3300\\3598516091.py:1: SettingWithCopyWarning: \n",
      "A value is trying to be set on a copy of a slice from a DataFrame.\n",
      "Try using .loc[row_indexer,col_indexer] = value instead\n",
      "\n",
      "See the caveats in the documentation: https://pandas.pydata.org/pandas-docs/stable/user_guide/indexing.html#returning-a-view-versus-a-copy\n",
      "  filtered_loan[\"emp_length_class\"] = filtered_loan[\"emp_length\"].apply(func_emp_length)\n"
     ]
    }
   ],
   "source": [
    "filtered_loan[\"emp_length_class\"] = filtered_loan[\"emp_length\"].apply(func_emp_length)"
   ]
  },
  {
   "cell_type": "code",
   "execution_count": 83,
   "metadata": {},
   "outputs": [
    {
     "data": {
      "text/plain": [
       "<AxesSubplot:xlabel='emp_length_class', ylabel='loan_status'>"
      ]
     },
     "execution_count": 83,
     "metadata": {},
     "output_type": "execute_result"
    },
    {
     "data": {
      "image/png": "[encoded data removed]",
      "text/plain": [
       "<Figure size 432x288 with 1 Axes>"
      ]
     },
     "metadata": {
      "needs_background": "light"
     },
     "output_type": "display_data"
    }
   ],
   "source": [
    "plot_loan_status(\"emp_length_class\")"
   ]
  },
  {
   "cell_type": "markdown",
   "metadata": {},
   "source": [
    "> What's your `interetation`?"
   ]
  },
  {
   "cell_type": "markdown",
   "metadata": {},
   "source": [
    "### Question 5. Segmented Univariate Analysis\n",
    "\n"
   ]
  },
  {
   "cell_type": "markdown",
   "metadata": {},
   "source": [
    "#### Question 5.1. A quick glance on Loan Purpose (`purpose`) using your first function :)"
   ]
  },
  {
   "cell_type": "code",
   "execution_count": 84,
   "metadata": {},
   "outputs": [
    {
     "data": {
      "text/plain": [
       "(array([ 0,  1,  2,  3,  4,  5,  6,  7,  8,  9, 10, 11, 12, 13]),\n",
       " [Text(0, 0, 'credit_card'),\n",
       "  Text(1, 0, 'car'),\n",
       "  Text(2, 0, 'small_business'),\n",
       "  Text(3, 0, 'other'),\n",
       "  Text(4, 0, 'wedding'),\n",
       "  Text(5, 0, 'debt_consolidation'),\n",
       "  Text(6, 0, 'home_improvement'),\n",
       "  Text(7, 0, 'major_purchase'),\n",
       "  Text(8, 0, 'medical'),\n",
       "  Text(9, 0, 'moving'),\n",
       "  Text(10, 0, 'vacation'),\n",
       "  Text(11, 0, 'house'),\n",
       "  Text(12, 0, 'renewable_energy'),\n",
       "  Text(13, 0, 'educational')])"
      ]
     },
     "execution_count": 84,
     "metadata": {},
     "output_type": "execute_result"
    },
    {
     "data": {
      "image/png": "[encoded data removed]",
      "text/plain": [
       "<Figure size 432x288 with 1 Axes>"
      ]
     },
     "metadata": {
      "needs_background": "light"
     },
     "output_type": "display_data"
    }
   ],
   "source": [
    "plot_loan_status(\"purpose\")\n",
    "plt.xticks(rotation=90, ha='right')"
   ]
  },
  {
   "cell_type": "markdown",
   "metadata": {},
   "source": [
    "`Interpretation`?"
   ]
  },
  {
   "cell_type": "markdown",
   "metadata": {},
   "source": [
    "#### Question 5.2. Now let's segment the loan applications across the purpose of the loan, since that is a variable affecting many other variables - the type of applicant, interest rate, income, and finally the default rate. "
   ]
  },
  {
   "cell_type": "markdown",
   "metadata": {},
   "source": [
    "> Let's take a look at the number of loans for each type (purpose) of the loan."
   ]
  },
  {
   "cell_type": "code",
   "execution_count": 85,
   "metadata": {},
   "outputs": [
    {
     "data": {
      "text/plain": [
       "purpose\n",
       "car                    1448\n",
       "credit_card            4899\n",
       "debt_consolidation    17675\n",
       "educational             317\n",
       "home_improvement       2785\n",
       "house                   354\n",
       "major_purchase         2080\n",
       "medical                 656\n",
       "moving                  552\n",
       "other                  3713\n",
       "renewable_energy         94\n",
       "small_business         1710\n",
       "vacation                348\n",
       "wedding                 913\n",
       "Name: loan_status, dtype: int64"
      ]
     },
     "execution_count": 85,
     "metadata": {},
     "output_type": "execute_result"
    }
   ],
   "source": [
    "filtered_loan.groupby(\"purpose\")[\"loan_status\"].count()"
   ]
  },
  {
   "cell_type": "markdown",
   "metadata": {},
   "source": [
    "> Please analyze the top 4 types of loans based on purpose"
   ]
  },
  {
   "cell_type": "markdown",
   "metadata": {},
   "source": [
    "#### Let's filter the df for the 4 types of loans mentioned above"
   ]
  },
  {
   "cell_type": "code",
   "execution_count": 94,
   "metadata": {},
   "outputs": [
    {
     "data": {
      "text/plain": [
       "purpose\n",
       "debt_consolidation    17675\n",
       "credit_card            4899\n",
       "other                  3713\n",
       "home_improvement       2785\n",
       "Name: loan_status, dtype: int64"
      ]
     },
     "execution_count": 94,
     "metadata": {},
     "output_type": "execute_result"
    }
   ],
   "source": [
    "top_4_loan = filtered_loan.groupby(\"purpose\")[\"loan_status\"].count().sort_values(ascending = False).head(4)\n",
    "top_4_loan"
   ]
  },
  {
   "cell_type": "markdown",
   "metadata": {},
   "source": [
    "#### Visualize the number of loans by purpose "
   ]
  },
  {
   "cell_type": "code",
   "execution_count": 96,
   "metadata": {},
   "outputs": [
    {
     "data": {
      "text/plain": [
       "<AxesSubplot:title={'center':'Number of loans by purpose'}, xlabel='Purpose', ylabel='Frequency'>"
      ]
     },
     "execution_count": 96,
     "metadata": {},
     "output_type": "execute_result"
    },
    {
     "data": {
      "image/png": "[encoded data removed]",
      "text/plain": [
       "<Figure size 432x360 with 1 Axes>"
      ]
     },
     "metadata": {
      "needs_background": "light"
     },
     "output_type": "display_data"
    }
   ],
   "source": [
    "top_4_loan.plot(kind='bar', title='Number of loans by purpose', ylabel='Frequency',\n",
    "         xlabel='Purpose', figsize=(6, 5))"
   ]
  },
  {
   "cell_type": "markdown",
   "metadata": {},
   "source": [
    "> let's now compare the default rates (`loan_status`) across two types of categorical variables;\n",
    "> - `purpose` of loan (constant)\n",
    "> - another categorical variable (which changes)"
   ]
  },
  {
   "cell_type": "code",
   "execution_count": 97,
   "metadata": {},
   "outputs": [
    {
     "name": "stdout",
     "output_type": "stream",
     "text": [
      "<class 'pandas.core.frame.DataFrame'>\n",
      "Int64Index: 37544 entries, 0 to 39716\n",
      "Data columns (total 39 columns):\n",
      " #   Column                      Non-Null Count  Dtype         \n",
      "---  ------                      --------------  -----         \n",
      " 0   id                          37544 non-null  int64         \n",
      " 1   member_id                   37544 non-null  int64         \n",
      " 2   loan_amnt                   37544 non-null  int64         \n",
      " 3   funded_amnt                 37544 non-null  int64         \n",
      " 4   funded_amnt_inv             37544 non-null  float64       \n",
      " 5   term                        37544 non-null  object        \n",
      " 6   int_rate                    37544 non-null  float64       \n",
      " 7   installment                 37544 non-null  float64       \n",
      " 8   grade                       37544 non-null  object        \n",
      " 9   sub_grade                   37544 non-null  object        \n",
      " 10  emp_title                   36136 non-null  object        \n",
      " 11  emp_length                  37544 non-null  int64         \n",
      " 12  home_ownership              37544 non-null  object        \n",
      " 13  annual_inc                  37544 non-null  float64       \n",
      " 14  verification_status         37544 non-null  object        \n",
      " 15  issue_d                     37544 non-null  datetime64[ns]\n",
      " 16  loan_status                 37544 non-null  int64         \n",
      " 17  pymnt_plan                  37544 non-null  object        \n",
      " 18  url                         37544 non-null  object        \n",
      " 19  purpose                     37544 non-null  object        \n",
      " 20  dti                         37544 non-null  float64       \n",
      " 21  initial_list_status         37544 non-null  object        \n",
      " 22  collections_12_mths_ex_med  37488 non-null  float64       \n",
      " 23  policy_code                 37544 non-null  int64         \n",
      " 24  acc_now_delinq              37544 non-null  int64         \n",
      " 25  chargeoff_within_12_mths    37488 non-null  float64       \n",
      " 26  delinq_amnt                 37544 non-null  int64         \n",
      " 27  pub_rec_bankruptcies        36847 non-null  float64       \n",
      " 28  tax_liens                   37505 non-null  float64       \n",
      " 29  year                        37544 non-null  int64         \n",
      " 30  month                       37544 non-null  int64         \n",
      " 31  loan_amnt_class             37544 non-null  object        \n",
      " 32  funded_amnt_class           37544 non-null  object        \n",
      " 33  int_rate_class              37544 non-null  object        \n",
      " 34  dti_rate_class              37544 non-null  object        \n",
      " 35  fund_rate_class             37544 non-null  object        \n",
      " 36  installment_class           37544 non-null  object        \n",
      " 37  annual_income_class         37544 non-null  object        \n",
      " 38  emp_length_class            37544 non-null  object        \n",
      "dtypes: datetime64[ns](1), float64(9), int64(11), object(18)\n",
      "memory usage: 12.5+ MB\n"
     ]
    }
   ],
   "source": [
    "filtered_loan.info()"
   ]
  },
  {
   "cell_type": "code",
   "execution_count": 101,
   "metadata": {},
   "outputs": [
    {
     "data": {
      "text/plain": [
       "purpose             fund_rate_class\n",
       "car                 high               0.174603\n",
       "                    low                0.104430\n",
       "                    medium             0.103586\n",
       "credit_card         high               0.140367\n",
       "                    low                0.082063\n",
       "                    medium             0.097091\n",
       "debt_consolidation  high               0.189648\n",
       "                    low                0.148565\n",
       "                    medium             0.134483\n",
       "educational         high               0.227273\n",
       "                    low                0.133758\n",
       "                    medium             0.188406\n",
       "home_improvement    high               0.145937\n",
       "                    low                0.107191\n",
       "                    medium             0.112803\n",
       "house               high               0.157303\n",
       "                    low                0.174603\n",
       "                    medium             0.168317\n",
       "major_purchase      high               0.164319\n",
       "                    low                0.089862\n",
       "                    medium             0.098098\n",
       "medical             high               0.194444\n",
       "                    low                0.142336\n",
       "                    medium             0.154839\n",
       "moving              high               0.150000\n",
       "                    low                0.164038\n",
       "                    medium             0.133333\n",
       "other               high               0.217507\n",
       "                    low                0.169166\n",
       "                    medium             0.139005\n",
       "renewable_energy    high               0.214286\n",
       "                    low                0.225000\n",
       "                    medium             0.150000\n",
       "small_business      high               0.321839\n",
       "                    low                0.221884\n",
       "                    medium             0.257276\n",
       "vacation            high               0.250000\n",
       "                    low                0.132075\n",
       "                    medium             0.150000\n",
       "wedding             high               0.159420\n",
       "                    low                0.089744\n",
       "                    medium             0.090573\n",
       "Name: loan_status, dtype: float64"
      ]
     },
     "execution_count": 101,
     "metadata": {},
     "output_type": "execute_result"
    }
   ],
   "source": [
    "test_data = filtered_loan.groupby([\"purpose\",\"fund_rate_class\"]).loan_status.mean()\n",
    "test_data"
   ]
  },
  {
   "cell_type": "code",
   "execution_count": 102,
   "metadata": {},
   "outputs": [
    {
     "data": {
      "text/html": [
       "<div>\n",
       "<style scoped>\n",
       "    .dataframe tbody tr th:only-of-type {\n",
       "        vertical-align: middle;\n",
       "    }\n",
       "\n",
       "    .dataframe tbody tr th {\n",
       "        vertical-align: top;\n",
       "    }\n",
       "\n",
       "    .dataframe thead th {\n",
       "        text-align: right;\n",
       "    }\n",
       "</style>\n",
       "<table border=\"1\" class=\"dataframe\">\n",
       "  <thead>\n",
       "    <tr style=\"text-align: right;\">\n",
       "      <th>fund_rate_class</th>\n",
       "      <th>high</th>\n",
       "      <th>low</th>\n",
       "      <th>medium</th>\n",
       "    </tr>\n",
       "    <tr>\n",
       "      <th>purpose</th>\n",
       "      <th></th>\n",
       "      <th></th>\n",
       "      <th></th>\n",
       "    </tr>\n",
       "  </thead>\n",
       "  <tbody>\n",
       "    <tr>\n",
       "      <th>car</th>\n",
       "      <td>0.174603</td>\n",
       "      <td>0.104430</td>\n",
       "      <td>0.103586</td>\n",
       "    </tr>\n",
       "    <tr>\n",
       "      <th>credit_card</th>\n",
       "      <td>0.140367</td>\n",
       "      <td>0.082063</td>\n",
       "      <td>0.097091</td>\n",
       "    </tr>\n",
       "    <tr>\n",
       "      <th>debt_consolidation</th>\n",
       "      <td>0.189648</td>\n",
       "      <td>0.148565</td>\n",
       "      <td>0.134483</td>\n",
       "    </tr>\n",
       "    <tr>\n",
       "      <th>educational</th>\n",
       "      <td>0.227273</td>\n",
       "      <td>0.133758</td>\n",
       "      <td>0.188406</td>\n",
       "    </tr>\n",
       "    <tr>\n",
       "      <th>home_improvement</th>\n",
       "      <td>0.145937</td>\n",
       "      <td>0.107191</td>\n",
       "      <td>0.112803</td>\n",
       "    </tr>\n",
       "    <tr>\n",
       "      <th>house</th>\n",
       "      <td>0.157303</td>\n",
       "      <td>0.174603</td>\n",
       "      <td>0.168317</td>\n",
       "    </tr>\n",
       "    <tr>\n",
       "      <th>major_purchase</th>\n",
       "      <td>0.164319</td>\n",
       "      <td>0.089862</td>\n",
       "      <td>0.098098</td>\n",
       "    </tr>\n",
       "    <tr>\n",
       "      <th>medical</th>\n",
       "      <td>0.194444</td>\n",
       "      <td>0.142336</td>\n",
       "      <td>0.154839</td>\n",
       "    </tr>\n",
       "    <tr>\n",
       "      <th>moving</th>\n",
       "      <td>0.150000</td>\n",
       "      <td>0.164038</td>\n",
       "      <td>0.133333</td>\n",
       "    </tr>\n",
       "    <tr>\n",
       "      <th>other</th>\n",
       "      <td>0.217507</td>\n",
       "      <td>0.169166</td>\n",
       "      <td>0.139005</td>\n",
       "    </tr>\n",
       "    <tr>\n",
       "      <th>renewable_energy</th>\n",
       "      <td>0.214286</td>\n",
       "      <td>0.225000</td>\n",
       "      <td>0.150000</td>\n",
       "    </tr>\n",
       "    <tr>\n",
       "      <th>small_business</th>\n",
       "      <td>0.321839</td>\n",
       "      <td>0.221884</td>\n",
       "      <td>0.257276</td>\n",
       "    </tr>\n",
       "    <tr>\n",
       "      <th>vacation</th>\n",
       "      <td>0.250000</td>\n",
       "      <td>0.132075</td>\n",
       "      <td>0.150000</td>\n",
       "    </tr>\n",
       "    <tr>\n",
       "      <th>wedding</th>\n",
       "      <td>0.159420</td>\n",
       "      <td>0.089744</td>\n",
       "      <td>0.090573</td>\n",
       "    </tr>\n",
       "  </tbody>\n",
       "</table>\n",
       "</div>"
      ],
      "text/plain": [
       "fund_rate_class         high       low    medium\n",
       "purpose                                         \n",
       "car                 0.174603  0.104430  0.103586\n",
       "credit_card         0.140367  0.082063  0.097091\n",
       "debt_consolidation  0.189648  0.148565  0.134483\n",
       "educational         0.227273  0.133758  0.188406\n",
       "home_improvement    0.145937  0.107191  0.112803\n",
       "house               0.157303  0.174603  0.168317\n",
       "major_purchase      0.164319  0.089862  0.098098\n",
       "medical             0.194444  0.142336  0.154839\n",
       "moving              0.150000  0.164038  0.133333\n",
       "other               0.217507  0.169166  0.139005\n",
       "renewable_energy    0.214286  0.225000  0.150000\n",
       "small_business      0.321839  0.221884  0.257276\n",
       "vacation            0.250000  0.132075  0.150000\n",
       "wedding             0.159420  0.089744  0.090573"
      ]
     },
     "execution_count": 102,
     "metadata": {},
     "output_type": "execute_result"
    }
   ],
   "source": [
    "test_data=test_data.unstack(level = -1)\n",
    "test_data\n",
    "# read up on unstack"
   ]
  },
  {
   "cell_type": "markdown",
   "metadata": {},
   "source": [
    "> You should be able to write your own function which takes a categorical variable and plots the default rate segmented by purpose.\n",
    "\n",
    "> Please **create your function** named `plot_segmented`"
   ]
  },
  {
   "cell_type": "code",
   "execution_count": 104,
   "metadata": {},
   "outputs": [
    {
     "data": {
      "image/png": "[encoded data removed]",
      "text/plain": [
       "<Figure size 720x720 with 2 Axes>"
      ]
     },
     "metadata": {
      "needs_background": "light"
     },
     "output_type": "display_data"
    }
   ],
   "source": [
    "fig, ax = plt.subplots(figsize=(10,10))   # Sample figsize in inches\n",
    "ax = sns.heatmap(test_data,annot=True,cmap='BuPu')"
   ]
  },
  {
   "cell_type": "markdown",
   "metadata": {},
   "source": [
    "> Let's use the function to see if there's differences in the term."
   ]
  },
  {
   "cell_type": "code",
   "execution_count": 105,
   "metadata": {},
   "outputs": [],
   "source": [
    "def plot_segmented(x):\n",
    "    fig, ax = plt.subplots(figsize=(10,10)) \n",
    "    sns.heatmap(x,annot= True, cmap = \"BuPu\")"
   ]
  },
  {
   "cell_type": "markdown",
   "metadata": {},
   "source": [
    "#### Grade of Loan (`grade`)"
   ]
  },
  {
   "cell_type": "code",
   "execution_count": 107,
   "metadata": {},
   "outputs": [
    {
     "data": {
      "image/png": "[encoded data removed]",
      "text/plain": [
       "<Figure size 720x720 with 2 Axes>"
      ]
     },
     "metadata": {
      "needs_background": "light"
     },
     "output_type": "display_data"
    }
   ],
   "source": [
    "test_data1 = filtered_loan.groupby([\"purpose\",\"loan_amnt_class\"]).loan_status.mean()\n",
    "test_data1=test_data1.unstack(level = -1)\n",
    "plot_segmented(test_data1)"
   ]
  },
  {
   "cell_type": "markdown",
   "metadata": {},
   "source": [
    "#### home ownership(`home_ownership`)"
   ]
  },
  {
   "cell_type": "code",
   "execution_count": 108,
   "metadata": {},
   "outputs": [
    {
     "data": {
      "image/png": "[encoded data removed]",
      "text/plain": [
       "<Figure size 720x720 with 2 Axes>"
      ]
     },
     "metadata": {
      "needs_background": "light"
     },
     "output_type": "display_data"
    }
   ],
   "source": [
    "test_data2 = filtered_loan.groupby([\"purpose\",\"home_ownership\"]).loan_status.mean()\n",
    "test_data2=test_data2.unstack(level = -1)\n",
    "plot_segmented(test_data2)"
   ]
  },
  {
   "cell_type": "markdown",
   "metadata": {},
   "source": [
    "#### `year`"
   ]
  },
  {
   "cell_type": "code",
   "execution_count": 109,
   "metadata": {},
   "outputs": [
    {
     "data": {
      "image/png": "[encoded data removed]",
      "text/plain": [
       "<Figure size 720x720 with 2 Axes>"
      ]
     },
     "metadata": {
      "needs_background": "light"
     },
     "output_type": "display_data"
    }
   ],
   "source": [
    "test_data3 = filtered_loan.groupby([\"purpose\",\"year\"]).loan_status.mean()\n",
    "test_data3=test_data3.unstack(level = -1)\n",
    "plot_segmented(test_data3)"
   ]
  },
  {
   "cell_type": "markdown",
   "metadata": {},
   "source": [
    "#### `emp_length`"
   ]
  },
  {
   "cell_type": "code",
   "execution_count": 112,
   "metadata": {},
   "outputs": [
    {
     "data": {
      "image/png": "[encoded data removed]",
      "text/plain": [
       "<Figure size 720x720 with 2 Axes>"
      ]
     },
     "metadata": {
      "needs_background": "light"
     },
     "output_type": "display_data"
    }
   ],
   "source": [
    "test_data4 = filtered_loan.groupby([\"purpose\",\"emp_length_class\"]).loan_status.mean()\n",
    "test_data4=test_data4.unstack(level = -1)\n",
    "plot_segmented(test_data4)"
   ]
  },
  {
   "cell_type": "markdown",
   "metadata": {},
   "source": [
    "> Loan Amount (`loan_amnt`) \n",
    "\n",
    "> How's the pattern compared with loan purposes?"
   ]
  },
  {
   "cell_type": "code",
   "execution_count": 113,
   "metadata": {},
   "outputs": [
    {
     "data": {
      "image/png": "[encoded data removed]",
      "text/plain": [
       "<Figure size 720x720 with 2 Axes>"
      ]
     },
     "metadata": {
      "needs_background": "light"
     },
     "output_type": "display_data"
    }
   ],
   "source": [
    "test_data5 = filtered_loan.groupby([\"purpose\",\"loan_amnt_class\"]).loan_status.mean()\n",
    "test_data5=test_data5.unstack(level = -1)\n",
    "plot_segmented(test_data5)"
   ]
  },
  {
   "cell_type": "markdown",
   "metadata": {},
   "source": [
    "> interest rate (`int_rate`)"
   ]
  },
  {
   "cell_type": "code",
   "execution_count": 114,
   "metadata": {},
   "outputs": [
    {
     "data": {
      "image/png": "[encoded data removed]",
      "text/plain": [
       "<Figure size 720x720 with 2 Axes>"
      ]
     },
     "metadata": {
      "needs_background": "light"
     },
     "output_type": "display_data"
    }
   ],
   "source": [
    "test_data6 = filtered_loan.groupby([\"purpose\",\"int_rate_class\"]).loan_status.mean()\n",
    "test_data6=test_data6.unstack(level = -1)\n",
    "plot_segmented(test_data6)"
   ]
  },
  {
   "cell_type": "markdown",
   "metadata": {},
   "source": [
    "> `installment`"
   ]
  },
  {
   "cell_type": "code",
   "execution_count": 115,
   "metadata": {},
   "outputs": [
    {
     "data": {
      "image/png": "[encoded data removed]",
      "text/plain": [
       "<Figure size 720x720 with 2 Axes>"
      ]
     },
     "metadata": {
      "needs_background": "light"
     },
     "output_type": "display_data"
    }
   ],
   "source": [
    "test_data7 = filtered_loan.groupby([\"purpose\",\"installment_class\"]).loan_status.mean()\n",
    "test_data7=test_data7.unstack(level = -1)\n",
    "plot_segmented(test_data7)"
   ]
  },
  {
   "cell_type": "markdown",
   "metadata": {},
   "source": [
    "> debt-to-income (`dti`) ratio"
   ]
  },
  {
   "cell_type": "code",
   "execution_count": 116,
   "metadata": {},
   "outputs": [
    {
     "data": {
      "image/png": "[encoded data removed]",
      "text/plain": [
       "<Figure size 720x720 with 2 Axes>"
      ]
     },
     "metadata": {
      "needs_background": "light"
     },
     "output_type": "display_data"
    }
   ],
   "source": [
    "test_data8 = filtered_loan.groupby([\"purpose\",\"dti_rate_class\"]).loan_status.mean()\n",
    "test_data8=test_data8.unstack(level = -1)\n",
    "plot_segmented(test_data8)"
   ]
  },
  {
   "cell_type": "markdown",
   "metadata": {},
   "source": [
    "> Let's have a look at the role of `annual_income`"
   ]
  },
  {
   "cell_type": "code",
   "execution_count": 119,
   "metadata": {},
   "outputs": [
    {
     "data": {
      "image/png": "[encoded data removed]",
      "text/plain": [
       "<Figure size 720x720 with 2 Axes>"
      ]
     },
     "metadata": {
      "needs_background": "light"
     },
     "output_type": "display_data"
    }
   ],
   "source": [
    "test_data9 = filtered_loan.groupby([\"purpose\",\"annual_income_class\"]).loan_status.mean()\n",
    "test_data9=test_data9.unstack(level = -1)\n",
    "plot_segmented(test_data9)\n",
    "#spearman rank prder correlation (for real world)"
   ]
  },
  {
   "cell_type": "markdown",
   "metadata": {},
   "source": [
    "> A good way to quantify the effect of a categorical variable on default rate is to see `how much does the default rate vary across the categories`. \n",
    "\n",
    "> Let's see an example using `annual_inc` as the categorical variable."
   ]
  },
  {
   "cell_type": "markdown",
   "metadata": {},
   "source": [
    "> How would you examine the variation of default rate across `annual_inc`?"
   ]
  },
  {
   "cell_type": "code",
   "execution_count": null,
   "metadata": {},
   "outputs": [],
   "source": [
    "# not sure what you meant, prof "
   ]
  },
  {
   "cell_type": "markdown",
   "metadata": {},
   "source": [
    "#### Question 5.3 Write a function which takes in a categorical variable and computed the average default rate across the categories.\n",
    "\n",
    "> You can also compute the `difference between the highest and the lowest default rate` across the categories, which is a decent metric indicating the effect of the variable on default rate.\n",
    "\n",
    "> Please create your own function named `diff_rate`."
   ]
  },
  {
   "cell_type": "code",
   "execution_count": 120,
   "metadata": {},
   "outputs": [
    {
     "data": {
      "text/plain": [
       "0.29982964224872233"
      ]
     },
     "execution_count": 120,
     "metadata": {},
     "output_type": "execute_result"
    }
   ],
   "source": [
    "filtered_loan.groupby([\"purpose\",\"annual_income_class\"]).loan_status.mean().max()\n",
    "# answer diff"
   ]
  },
  {
   "cell_type": "markdown",
   "metadata": {},
   "source": [
    "> Please use the function and draw some insights :)"
   ]
  },
  {
   "cell_type": "code",
   "execution_count": 123,
   "metadata": {},
   "outputs": [],
   "source": [
    "def diff_rate (a,b):\n",
    "    a = a.max()\n",
    "    b = b.min()\n",
    "    return a-b\n"
   ]
  },
  {
   "cell_type": "code",
   "execution_count": 135,
   "metadata": {},
   "outputs": [
    {
     "data": {
      "text/plain": [
       "1.0"
      ]
     },
     "execution_count": 135,
     "metadata": {},
     "output_type": "execute_result"
    }
   ],
   "source": [
    "diff_rate(default_by_group(filtered_loan,\"annual_inc\"),default_by_group(filtered_loan,\"annual_inc\"))"
   ]
  },
  {
   "cell_type": "markdown",
   "metadata": {},
   "source": [
    "> Thus, there is a ***`??%`*** increase in default rate as you go from high to low annual income. \n",
    "\n",
    "##### You might want to compute this difference for all the variables and roughly identify the ones that affect default rate the most."
   ]
  },
  {
   "cell_type": "markdown",
   "metadata": {},
   "source": [
    "### Variables in the Dataset"
   ]
  },
  {
   "cell_type": "markdown",
   "metadata": {},
   "source": [
    "- `acc_now_delinq`\tThe number of accounts on which the borrower is now delinquent.\n",
    "- `acc_open_past_24mths`\tNumber of trades opened in past 24 months.\n",
    "- addr_state`\tThe state provided by the borrower in the loan application\n",
    "- `all_util`\tBalance to credit limit on all trades\n",
    "- `annual_inc`\tThe self-reported annual income provided by the borrower during registration.\n",
    "- `annual_inc_joint`\tThe combined self-reported annual income provided by the co-borrowers during registration\n",
    "- `application_type`\tIndicates whether the loan is an individual application or a joint application with two co-borrowers\n",
    "- `avg_cur_bal`\tAverage current balance of all accounts\n",
    "- `bc_open_to_buy`\tTotal open to buy on revolving bankcards.\n",
    "- `bc_util`\tRatio of total current balance to high credit/credit limit for all bankcard accounts.\n",
    "- `chargeoff_within_12_mths`\tNumber of charge-offs within 12 months\n",
    "- `collection_recovery_fee`\tpost charge off collection fee\n",
    "- `collections_12_mths_ex_med`\tNumber of collections in 12 months excluding medical collections\n",
    "- `delinq_2yrs`\tThe number of 30+ days past-due incidences of delinquency in the borrower's credit file for the past 2 years\n",
    "- `delinq_amnt`\tThe past-due amount owed for the accounts on which the borrower is now delinquent.\n",
    "- `desc`\tLoan description provided by the borrower\n",
    "- `dti`\tA ratio calculated using the borrower’s total monthly debt payments on the total debt obligations, excluding mortgage and the requested LC loan, divided by the borrower’s self-reported monthly income.\n",
    "- `dti_joint`\tA ratio calculated using the co-borrowers' total monthly payments on the total debt obligations, excluding mortgages and the requested LC loan, divided by the co-borrowers' combined self-reported monthly income\n",
    "- `earliest_cr_line`\tThe month the borrower's earliest reported credit line was opened\n",
    "- `emp_length`\tEmployment length in years. Possible values are between 0 and 10 where 0 means less than one year and 10 means ten or more years. \n",
    "- `emp_title`\tThe job title supplied by the Borrower when applying for the loan.*\n",
    "- `fico_range_high`\tThe upper boundary range the borrower’s FICO at loan origination belongs to.\n",
    "- `fico_range_low`\tThe lower boundary range the borrower’s FICO at loan origination belongs to.\n",
    "- `funded_amnt`\tThe total amount committed to that loan at that point in time.\n",
    "- `funded_amnt_inv`\tThe total amount committed by investors for that loan at that point in time.\n",
    "- `grade`\tLC assigned loan grade\n",
    "- `home_ownership`\tThe home ownership status provided by the borrower during registration. Our values are: RENT, OWN, MORTGAGE, OTHER.\n",
    "- `id`\tA unique LC assigned ID for the loan listing.\n",
    "- `il_util`\tRatio of total current balance to high credit/credit limit on all install acct\n",
    "- `initial_list_status`\tThe initial listing status of the loan. Possible values are – W, F\n",
    "- `inq_fi`\tNumber of personal finance inquiries\n",
    "- `inq_last_12m`\tNumber of credit inquiries in past 12 months\n",
    "- `inq_last_6mths`\tThe number of inquiries in past 6 months (excluding auto and mortgage inquiries)\n",
    "- `installment`\tThe monthly payment owed by the borrower if the loan originates.\n",
    "- `int_rate`\tInterest Rate on the loan\n",
    "- `issue_d`\tThe month which the loan was funded\n",
    "- `last_credit_pull_d`\tThe most recent month LC pulled credit for this loan\n",
    "- `last_fico_range_high`\tThe upper boundary range the borrower’s last FICO pulled belongs to.\n",
    "- `last_fico_range_low`\tThe lower boundary range the borrower’s last FICO pulled belongs to.\n",
    "- `last_pymnt_amnt`\tLast total payment amount received\n",
    "- `last_pymnt_d`\tLast month payment was received\n",
    "- `loan_amnt`\tThe listed amount of the loan applied for by the borrower. If at some point in time, the credit department reduces the loan amount, then it will be reflected in this value.\n",
    "- `loan_status`\tCurrent status of the loan\n",
    "- `max_bal_bc`\tMaximum current balance owed on all revolving accounts\n",
    "- `member_id`\tA unique LC assigned Id for the borrower member.\n",
    "- `mo_sin_old_il_acct`\tMonths since oldest bank installment account opened\n",
    "- `mo_sin_old_rev_tl_op`\tMonths since oldest revolving account opened\n",
    "- `mo_sin_rcnt_rev_tl_op`\tMonths since most recent revolving account opened\n",
    "- `mo_sin_rcnt_tl`\tMonths since most recent account opened\n",
    "- `mort_acc`\tNumber of mortgage accounts.\n",
    "- `mths_since_last_delinq`\tThe number of months since the borrower's last delinquency.\n",
    "- `mths_since_last_major_derog`\tMonths since most recent 90-day or worse rating\n",
    "- `mths_since_last_record`\tThe number of months since the last public record.\n",
    "- `mths_since_rcnt_il`\tMonths since most recent installment accounts opened\n",
    "- `mths_since_recent_bc`\tMonths since most recent bankcard account opened.\n",
    "- `mths_since_recent_bc_dlq`\tMonths since most recent bankcard delinquency\n",
    "- `mths_since_recent_inq`\tMonths since most recent inquiry.\n",
    "- `mths_since_recent_revol_delinq`\tMonths since most recent revolving delinquency.\n",
    "- `next_pymnt_d`\tNext scheduled payment date\n",
    "- `num_accts_ever_120_pd`\tNumber of accounts ever 120 or more days past due\n",
    "- `num_actv_bc_tl`\tNumber of currently active bankcard accounts\n",
    "- `num_actv_rev_tl`\tNumber of currently active revolving trades\n",
    "- `num_bc_sats`\tNumber of satisfactory bankcard accounts\n",
    "- `num_bc_tl`\tNumber of bankcard accounts\n",
    "- `num_il_tl`\tNumber of installment accounts\n",
    "- `num_op_rev_tl`\tNumber of open revolving accounts\n",
    "- `num_rev_accts`\tNumber of revolving accounts\n",
    "- `num_rev_tl_bal_gt_0`\tNumber of revolving trades with balance >0\n",
    "- `num_sats`\tNumber of satisfactory accounts\n",
    "- `num_tl_120dpd_2m`\tNumber of accounts currently 120 days past due (updated in past 2 months)\n",
    "- `num_tl_30dpd`\tNumber of accounts currently 30 days past due (updated in past 2 months)\n",
    "- `num_tl_90g_dpd_24m`\tNumber of accounts 90 or more days past due in last 24 months\n",
    "- `num_tl_op_past_12m`\tNumber of accounts opened in past 12 months\n",
    "- `open_acc`\tThe number of open credit lines in the borrower's credit file.\n",
    "- `open_acc_6m`\tNumber of open trades in last 6 months\n",
    "- `open_il_12m`\tNumber of installment accounts opened in past 12 months\n",
    "- `open_il_24m`\tNumber of installment accounts opened in past 24 months\n",
    "- `open_il_6m`\tNumber of currently active installment trades\n",
    "- `open_rv_12m`\tNumber of revolving trades opened in past 12 months\n",
    "- `open_rv_24m`\tNumber of revolving trades opened in past 24 months\n",
    "- `out_prncp`\tRemaining outstanding principal for total amount funded\n",
    "- `out_prncp_inv`\tRemaining outstanding principal for portion of total amount funded by investors\n",
    "- `pct_tl_nvr_dlq`\tPercent of trades never delinquent\n",
    "- `percent_bc_gt_75`\tPercentage of all bankcard accounts > 75% of limit.\n",
    "- `policy_code`\tpublicly available policy_code=1; new products not publicly available policy_code=2\"\n",
    "- `pub_rec`\tNumber of derogatory public records\n",
    "- `pub_rec_bankruptcies`\tNumber of public record bankruptcies\n",
    "- `purpose`\tA category provided by the borrower for the loan request. \n",
    "- `pymnt_plan`\tIndicates if a payment plan has been put in place for the loan\n",
    "- `recoveries`\tpost charge off gross recovery\n",
    "- `revol_bal`\tTotal credit revolving balance\n",
    "- `revol_util`\tRevolving line utilization rate, or the amount of credit the borrower is using relative to all available revolving credit.\n",
    "- `sub_grade`\tLC assigned loan subgrade\n",
    "- `tax_liens`\tNumber of tax liens\n",
    "- `term`\tThe number of payments on the loan. Values are in months and can be either 36 or 60.\n",
    "- `title`\tThe loan title provided by the borrower\n",
    "- `tot_coll_amt`\tTotal collection amounts ever owed\n",
    "- `tot_cur_bal`\tTotal current balance of all accounts\n",
    "- `tot_hi_cred_lim`\tTotal high credit/credit limit\n",
    "- `total_acc`\tThe total number of credit lines currently in the borrower's credit file\n",
    "- `total_bal_ex_mort`\tTotal credit balance excluding mortgage\n",
    "- `total_bal_il`\tTotal current balance of all installment accounts\n",
    "- `total_bc_limit`\tTotal bankcard high credit/credit limit\n",
    "- `total_cu_tl`\tNumber of finance trades\n",
    "- `total_il_high_credit_limit`\tTotal installment high credit/credit limit\n",
    "- `total_pymnt`\tPayments received to date for total amount funded\n",
    "- `total_pymnt_inv`\tPayments received to date for portion of total amount funded by investors\n",
    "- `total_rec_int`\tInterest received to date\n",
    "- `total_rec_late_fee`\tLate fees received to date\n",
    "- `total_rec_prncp`\tPrincipal received to date\n",
    "- `total_rev_hi_lim`  \tTotal revolving high credit/credit limit\n",
    "- `url`\tURL for the LC page with listing data.\n",
    "- `verification_status`\tIndicates if income was verified by LC, not verified, or if the income source was verified\n",
    "- `verified_status_joint`\tIndicates if the co-borrowers' joint income was verified by LC, not verified, or if the income source was verified\n",
    "- `zip_code`\tThe first 3 numbers of the zip code provided by the borrower in the loan application."
   ]
  },
  {
   "cell_type": "markdown",
   "metadata": {},
   "source": [
    "### <font color=\"green\">\"Thank you for putting your efforts into the exercise problem sets :)\"</font>"
   ]
  }
 ],
 "metadata": {
  "kernelspec": {
   "display_name": "Python 3 (ipykernel)",
   "language": "python",
   "name": "python3"
  },
  "language_info": {
   "codemirror_mode": {
    "name": "ipython",
    "version": 3
   },
   "file_extension": ".py",
   "mimetype": "text/x-python",
   "name": "python",
   "nbconvert_exporter": "python",
   "pygments_lexer": "ipython3",
   "version": "3.9.12"
  }
 },
 "nbformat": 4,
 "nbformat_minor": 2
}
